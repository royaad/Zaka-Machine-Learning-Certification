{
  "nbformat": 4,
  "nbformat_minor": 0,
  "metadata": {
    "colab": {
      "provenance": [],
      "collapsed_sections": [
        "qgIxvmAKhiqe"
      ]
    },
    "kernelspec": {
      "name": "python3",
      "display_name": "Python 3"
    }
  },
  "cells": [
    {
      "cell_type": "markdown",
      "metadata": {
        "id": "SKzBo_NmCSMR"
      },
      "source": [
        "# Data Science Lifecycle\n",
        "© 2023, Zaka AI, Inc. All Rights Reserved.\n",
        "\n",
        "---\n",
        "## Case Study: Insurance Medical Cost Prediction\n",
        "\n",
        "**Objective:**\n",
        "\n",
        "In this exercise, you will explore a dataset of insurance data detailed below. We will build a model to predict the cost of treatment for individuals based on their age, sex, bmi and other information.\n",
        "\n",
        "\n",
        "## Dataset Description\n",
        "\n",
        "\n",
        "*   **age**: age of primary beneficiary\n",
        "*   **sex**: insurance contractor gender, female, male\n",
        "*   **bmi**: Body mass index, providing an understanding of body, weights that are relatively high or low relative to height,\n",
        "objective index of body weight (kg / m ^ 2) using the ratio of height to weight, ideally 18.5 to 24.9\n",
        "*   **children**: Number of children covered by health insurance / Number of dependents\n",
        "*   **smoker**: Smoking\n",
        "*   **region**: the beneficiary's residential area in the US, northeast, southeast, southwest, northwest.\n",
        "*   **charges**: Individual medical costs billed by health insurance"
      ]
    },
    {
      "cell_type": "markdown",
      "metadata": {
        "id": "5k7QqVknG5ya"
      },
      "source": [
        "## 1. Data Loading"
      ]
    },
    {
      "cell_type": "markdown",
      "metadata": {
        "id": "GfyJQMOnE_48"
      },
      "source": [
        "#### Import necessary python modules\n",
        "\n",
        "We will need the following libraries:\n",
        " - Numpy — for scientific computing (e.g., linear algebra (vectors & matrices)).\n",
        " - Pandas — providing high-performance, easy-to-use data reading, manipulation, and analysis.\n",
        " - Matplotlib — plotting & visualization.\n",
        " - scikit-learn — a tool for data mining and machine learning models."
      ]
    },
    {
      "cell_type": "code",
      "metadata": {
        "id": "u9nnDKPjAfGq"
      },
      "source": [
        "import numpy as np\n",
        "import pandas as pd\n",
        "import matplotlib.pyplot as plt\n",
        "\n",
        "from sklearn.model_selection import train_test_split\n",
        "from sklearn.linear_model import LinearRegression"
      ],
      "execution_count": null,
      "outputs": []
    },
    {
      "cell_type": "markdown",
      "metadata": {
        "id": "M3P3BLSpJK1k"
      },
      "source": [
        "#### Load the data\n",
        "\n",
        "You can find the dataset [here](https://github.com/zaka-ai/medical-cost-prediction).\n",
        "\n",
        "This is a Github repo where you can store multiple types of files and load them into your virtual disk by cloning the git repo with `!git clone [link to repo]`. From there we can change the working directory to point to the path of the folder where the dataset we want to work on resides."
      ]
    },
    {
      "cell_type": "code",
      "metadata": {
        "id": "rlruZVRqHOlu",
        "colab": {
          "base_uri": "https://localhost:8080/"
        },
        "outputId": "a84f4a74-1cfe-4b5f-ef85-955f53b85abe"
      },
      "source": [
        "# clone git repo\n",
        "!git clone https://github.com/zaka-ai/medical-cost-prediction\n",
        "\n",
        "# change working directory\n",
        "%cd medical-cost-prediction/data/"
      ],
      "execution_count": null,
      "outputs": [
        {
          "output_type": "stream",
          "name": "stdout",
          "text": [
            "Cloning into 'medical-cost-prediction'...\n",
            "remote: Enumerating objects: 21, done.\u001b[K\n",
            "remote: Counting objects: 100% (21/21), done.\u001b[K\n",
            "remote: Compressing objects: 100% (16/16), done.\u001b[K\n",
            "remote: Total 21 (delta 3), reused 14 (delta 2), pack-reused 0\u001b[K\n",
            "Unpacking objects: 100% (21/21), 23.40 KiB | 479.00 KiB/s, done.\n",
            "/content/medical-cost-prediction/data\n"
          ]
        }
      ]
    },
    {
      "cell_type": "markdown",
      "metadata": {
        "id": "4LEivAvUHIE3"
      },
      "source": [
        "#### Read & visualize data\n",
        "Data now is stored on disk in a csv (Comma Separated Values) file. To load the data to our code, we use **pandas** module, more specifically, the **read_csv** function."
      ]
    },
    {
      "cell_type": "code",
      "metadata": {
        "id": "_hep8239AzVU",
        "colab": {
          "base_uri": "https://localhost:8080/",
          "height": 427
        },
        "outputId": "81adf2af-664b-4b17-deb8-b457c580fab6"
      },
      "source": [
        "# read CSV file in Pandas\n",
        "data = pd.read_csv('insurance.csv')\n",
        "\n",
        "# display first 10 rows\n",
        "data.head(10)"
      ],
      "execution_count": null,
      "outputs": [
        {
          "output_type": "execute_result",
          "data": {
            "text/plain": [
              "   age     sex     bmi  children smoker     region      charges\n",
              "0   19  female  27.900         0    yes  southwest  16884.92400\n",
              "1   18    male  33.770         1     no  southeast   1725.55230\n",
              "2   28    male  33.000         3     no  southeast   4449.46200\n",
              "3   33    male  22.705         0     no  northwest  21984.47061\n",
              "4   32    male  28.880         0     no  northwest   3866.85520\n",
              "5   31  female  25.740         0     no  southeast   3756.62160\n",
              "6   46  female  33.440         1     no  southeast   8240.58960\n",
              "7   37  female  27.740         3     no  northwest   7281.50560\n",
              "8   37    male  29.830         2     no  northeast   6406.41070\n",
              "9   60  female  25.840         0     no  northwest  28923.13692"
            ],
            "text/html": [
              "\n",
              "  <div id=\"df-33c2dedf-b201-463c-b6a4-5c6453e0eda5\">\n",
              "    <div class=\"colab-df-container\">\n",
              "      <div>\n",
              "<style scoped>\n",
              "    .dataframe tbody tr th:only-of-type {\n",
              "        vertical-align: middle;\n",
              "    }\n",
              "\n",
              "    .dataframe tbody tr th {\n",
              "        vertical-align: top;\n",
              "    }\n",
              "\n",
              "    .dataframe thead th {\n",
              "        text-align: right;\n",
              "    }\n",
              "</style>\n",
              "<table border=\"1\" class=\"dataframe\">\n",
              "  <thead>\n",
              "    <tr style=\"text-align: right;\">\n",
              "      <th></th>\n",
              "      <th>age</th>\n",
              "      <th>sex</th>\n",
              "      <th>bmi</th>\n",
              "      <th>children</th>\n",
              "      <th>smoker</th>\n",
              "      <th>region</th>\n",
              "      <th>charges</th>\n",
              "    </tr>\n",
              "  </thead>\n",
              "  <tbody>\n",
              "    <tr>\n",
              "      <th>0</th>\n",
              "      <td>19</td>\n",
              "      <td>female</td>\n",
              "      <td>27.900</td>\n",
              "      <td>0</td>\n",
              "      <td>yes</td>\n",
              "      <td>southwest</td>\n",
              "      <td>16884.92400</td>\n",
              "    </tr>\n",
              "    <tr>\n",
              "      <th>1</th>\n",
              "      <td>18</td>\n",
              "      <td>male</td>\n",
              "      <td>33.770</td>\n",
              "      <td>1</td>\n",
              "      <td>no</td>\n",
              "      <td>southeast</td>\n",
              "      <td>1725.55230</td>\n",
              "    </tr>\n",
              "    <tr>\n",
              "      <th>2</th>\n",
              "      <td>28</td>\n",
              "      <td>male</td>\n",
              "      <td>33.000</td>\n",
              "      <td>3</td>\n",
              "      <td>no</td>\n",
              "      <td>southeast</td>\n",
              "      <td>4449.46200</td>\n",
              "    </tr>\n",
              "    <tr>\n",
              "      <th>3</th>\n",
              "      <td>33</td>\n",
              "      <td>male</td>\n",
              "      <td>22.705</td>\n",
              "      <td>0</td>\n",
              "      <td>no</td>\n",
              "      <td>northwest</td>\n",
              "      <td>21984.47061</td>\n",
              "    </tr>\n",
              "    <tr>\n",
              "      <th>4</th>\n",
              "      <td>32</td>\n",
              "      <td>male</td>\n",
              "      <td>28.880</td>\n",
              "      <td>0</td>\n",
              "      <td>no</td>\n",
              "      <td>northwest</td>\n",
              "      <td>3866.85520</td>\n",
              "    </tr>\n",
              "    <tr>\n",
              "      <th>5</th>\n",
              "      <td>31</td>\n",
              "      <td>female</td>\n",
              "      <td>25.740</td>\n",
              "      <td>0</td>\n",
              "      <td>no</td>\n",
              "      <td>southeast</td>\n",
              "      <td>3756.62160</td>\n",
              "    </tr>\n",
              "    <tr>\n",
              "      <th>6</th>\n",
              "      <td>46</td>\n",
              "      <td>female</td>\n",
              "      <td>33.440</td>\n",
              "      <td>1</td>\n",
              "      <td>no</td>\n",
              "      <td>southeast</td>\n",
              "      <td>8240.58960</td>\n",
              "    </tr>\n",
              "    <tr>\n",
              "      <th>7</th>\n",
              "      <td>37</td>\n",
              "      <td>female</td>\n",
              "      <td>27.740</td>\n",
              "      <td>3</td>\n",
              "      <td>no</td>\n",
              "      <td>northwest</td>\n",
              "      <td>7281.50560</td>\n",
              "    </tr>\n",
              "    <tr>\n",
              "      <th>8</th>\n",
              "      <td>37</td>\n",
              "      <td>male</td>\n",
              "      <td>29.830</td>\n",
              "      <td>2</td>\n",
              "      <td>no</td>\n",
              "      <td>northeast</td>\n",
              "      <td>6406.41070</td>\n",
              "    </tr>\n",
              "    <tr>\n",
              "      <th>9</th>\n",
              "      <td>60</td>\n",
              "      <td>female</td>\n",
              "      <td>25.840</td>\n",
              "      <td>0</td>\n",
              "      <td>no</td>\n",
              "      <td>northwest</td>\n",
              "      <td>28923.13692</td>\n",
              "    </tr>\n",
              "  </tbody>\n",
              "</table>\n",
              "</div>\n",
              "      <button class=\"colab-df-convert\" onclick=\"convertToInteractive('df-33c2dedf-b201-463c-b6a4-5c6453e0eda5')\"\n",
              "              title=\"Convert this dataframe to an interactive table.\"\n",
              "              style=\"display:none;\">\n",
              "        \n",
              "  <svg xmlns=\"http://www.w3.org/2000/svg\" height=\"24px\"viewBox=\"0 0 24 24\"\n",
              "       width=\"24px\">\n",
              "    <path d=\"M0 0h24v24H0V0z\" fill=\"none\"/>\n",
              "    <path d=\"M18.56 5.44l.94 2.06.94-2.06 2.06-.94-2.06-.94-.94-2.06-.94 2.06-2.06.94zm-11 1L8.5 8.5l.94-2.06 2.06-.94-2.06-.94L8.5 2.5l-.94 2.06-2.06.94zm10 10l.94 2.06.94-2.06 2.06-.94-2.06-.94-.94-2.06-.94 2.06-2.06.94z\"/><path d=\"M17.41 7.96l-1.37-1.37c-.4-.4-.92-.59-1.43-.59-.52 0-1.04.2-1.43.59L10.3 9.45l-7.72 7.72c-.78.78-.78 2.05 0 2.83L4 21.41c.39.39.9.59 1.41.59.51 0 1.02-.2 1.41-.59l7.78-7.78 2.81-2.81c.8-.78.8-2.07 0-2.86zM5.41 20L4 18.59l7.72-7.72 1.47 1.35L5.41 20z\"/>\n",
              "  </svg>\n",
              "      </button>\n",
              "      \n",
              "  <style>\n",
              "    .colab-df-container {\n",
              "      display:flex;\n",
              "      flex-wrap:wrap;\n",
              "      gap: 12px;\n",
              "    }\n",
              "\n",
              "    .colab-df-convert {\n",
              "      background-color: #E8F0FE;\n",
              "      border: none;\n",
              "      border-radius: 50%;\n",
              "      cursor: pointer;\n",
              "      display: none;\n",
              "      fill: #1967D2;\n",
              "      height: 32px;\n",
              "      padding: 0 0 0 0;\n",
              "      width: 32px;\n",
              "    }\n",
              "\n",
              "    .colab-df-convert:hover {\n",
              "      background-color: #E2EBFA;\n",
              "      box-shadow: 0px 1px 2px rgba(60, 64, 67, 0.3), 0px 1px 3px 1px rgba(60, 64, 67, 0.15);\n",
              "      fill: #174EA6;\n",
              "    }\n",
              "\n",
              "    [theme=dark] .colab-df-convert {\n",
              "      background-color: #3B4455;\n",
              "      fill: #D2E3FC;\n",
              "    }\n",
              "\n",
              "    [theme=dark] .colab-df-convert:hover {\n",
              "      background-color: #434B5C;\n",
              "      box-shadow: 0px 1px 3px 1px rgba(0, 0, 0, 0.15);\n",
              "      filter: drop-shadow(0px 1px 2px rgba(0, 0, 0, 0.3));\n",
              "      fill: #FFFFFF;\n",
              "    }\n",
              "  </style>\n",
              "\n",
              "      <script>\n",
              "        const buttonEl =\n",
              "          document.querySelector('#df-33c2dedf-b201-463c-b6a4-5c6453e0eda5 button.colab-df-convert');\n",
              "        buttonEl.style.display =\n",
              "          google.colab.kernel.accessAllowed ? 'block' : 'none';\n",
              "\n",
              "        async function convertToInteractive(key) {\n",
              "          const element = document.querySelector('#df-33c2dedf-b201-463c-b6a4-5c6453e0eda5');\n",
              "          const dataTable =\n",
              "            await google.colab.kernel.invokeFunction('convertToInteractive',\n",
              "                                                     [key], {});\n",
              "          if (!dataTable) return;\n",
              "\n",
              "          const docLinkHtml = 'Like what you see? Visit the ' +\n",
              "            '<a target=\"_blank\" href=https://colab.research.google.com/notebooks/data_table.ipynb>data table notebook</a>'\n",
              "            + ' to learn more about interactive tables.';\n",
              "          element.innerHTML = '';\n",
              "          dataTable['output_type'] = 'display_data';\n",
              "          await google.colab.output.renderOutput(dataTable, element);\n",
              "          const docLink = document.createElement('div');\n",
              "          docLink.innerHTML = docLinkHtml;\n",
              "          element.appendChild(docLink);\n",
              "        }\n",
              "      </script>\n",
              "    </div>\n",
              "  </div>\n",
              "  "
            ]
          },
          "metadata": {},
          "execution_count": 3
        }
      ]
    },
    {
      "cell_type": "markdown",
      "metadata": {
        "id": "qgIxvmAKhiqe"
      },
      "source": [
        "## 2. Exploratory Data Analysis\n",
        "\n",
        "Let's dig deeper & understand our data"
      ]
    },
    {
      "cell_type": "markdown",
      "metadata": {
        "id": "LbXDTkiQhzwq"
      },
      "source": [
        "**Task:** how many rows & columns in our dataset"
      ]
    },
    {
      "cell_type": "code",
      "metadata": {
        "id": "nUf0K_SMh1og",
        "colab": {
          "base_uri": "https://localhost:8080/"
        },
        "outputId": "4449e8db-0684-4069-8bea-f5e1f1dce7ee"
      },
      "source": [
        "# get the number of rows and columns\n",
        "rows = data.shape[0]\n",
        "columns = data.shape[1]\n",
        "\n",
        "print('There are {} rows and {} columns.'.format(rows,columns))"
      ],
      "execution_count": null,
      "outputs": [
        {
          "output_type": "stream",
          "name": "stdout",
          "text": [
            "There are 1338 rows and 7 columns.\n"
          ]
        }
      ]
    },
    {
      "cell_type": "markdown",
      "metadata": {
        "id": "rPqsS9S2B2M4"
      },
      "source": [
        "Using the function **info()**, we can check:\n",
        " - data types (int, float, or object (e.g., string))\n",
        " - missing values\n",
        " - memory usage\n",
        " - number of rows and columns"
      ]
    },
    {
      "cell_type": "code",
      "metadata": {
        "id": "exWsHvXSA7nz",
        "colab": {
          "base_uri": "https://localhost:8080/"
        },
        "outputId": "abc55530-3813-433d-ecb2-41e21f9f9526"
      },
      "source": [
        "data.info()"
      ],
      "execution_count": null,
      "outputs": [
        {
          "output_type": "stream",
          "name": "stdout",
          "text": [
            "<class 'pandas.core.frame.DataFrame'>\n",
            "RangeIndex: 1338 entries, 0 to 1337\n",
            "Data columns (total 7 columns):\n",
            " #   Column    Non-Null Count  Dtype  \n",
            "---  ------    --------------  -----  \n",
            " 0   age       1338 non-null   int64  \n",
            " 1   sex       1338 non-null   object \n",
            " 2   bmi       1335 non-null   float64\n",
            " 3   children  1338 non-null   int64  \n",
            " 4   smoker    1338 non-null   object \n",
            " 5   region    1338 non-null   object \n",
            " 6   charges   1338 non-null   float64\n",
            "dtypes: float64(2), int64(2), object(3)\n",
            "memory usage: 73.3+ KB\n"
          ]
        }
      ]
    },
    {
      "cell_type": "markdown",
      "metadata": {
        "id": "Kt2KsZa2B63T"
      },
      "source": [
        "Using the function **describe()**, we can check the mean, standard deviation, maximum, and minimum of each numerical feature (column)"
      ]
    },
    {
      "cell_type": "code",
      "metadata": {
        "id": "pifR8QwkA-DW",
        "colab": {
          "base_uri": "https://localhost:8080/",
          "height": 300
        },
        "outputId": "f1b0cce9-a64f-49b4-af51-b42a697bc79c"
      },
      "source": [
        "data.describe()"
      ],
      "execution_count": null,
      "outputs": [
        {
          "output_type": "execute_result",
          "data": {
            "text/plain": [
              "               age          bmi     children       charges\n",
              "count  1338.000000  1335.000000  1338.000000   1338.000000\n",
              "mean     39.207025    30.661423     1.094918  13270.422265\n",
              "std      14.049960     6.101038     1.205493  12110.011237\n",
              "min      18.000000    15.960000     0.000000   1121.873900\n",
              "25%      27.000000    26.302500     0.000000   4740.287150\n",
              "50%      39.000000    30.400000     1.000000   9382.033000\n",
              "75%      51.000000    34.687500     2.000000  16639.912515\n",
              "max      64.000000    53.130000     5.000000  63770.428010"
            ],
            "text/html": [
              "\n",
              "  <div id=\"df-7bd9d3a8-f21b-4c48-81ac-e1514f9a6bdd\">\n",
              "    <div class=\"colab-df-container\">\n",
              "      <div>\n",
              "<style scoped>\n",
              "    .dataframe tbody tr th:only-of-type {\n",
              "        vertical-align: middle;\n",
              "    }\n",
              "\n",
              "    .dataframe tbody tr th {\n",
              "        vertical-align: top;\n",
              "    }\n",
              "\n",
              "    .dataframe thead th {\n",
              "        text-align: right;\n",
              "    }\n",
              "</style>\n",
              "<table border=\"1\" class=\"dataframe\">\n",
              "  <thead>\n",
              "    <tr style=\"text-align: right;\">\n",
              "      <th></th>\n",
              "      <th>age</th>\n",
              "      <th>bmi</th>\n",
              "      <th>children</th>\n",
              "      <th>charges</th>\n",
              "    </tr>\n",
              "  </thead>\n",
              "  <tbody>\n",
              "    <tr>\n",
              "      <th>count</th>\n",
              "      <td>1338.000000</td>\n",
              "      <td>1335.000000</td>\n",
              "      <td>1338.000000</td>\n",
              "      <td>1338.000000</td>\n",
              "    </tr>\n",
              "    <tr>\n",
              "      <th>mean</th>\n",
              "      <td>39.207025</td>\n",
              "      <td>30.661423</td>\n",
              "      <td>1.094918</td>\n",
              "      <td>13270.422265</td>\n",
              "    </tr>\n",
              "    <tr>\n",
              "      <th>std</th>\n",
              "      <td>14.049960</td>\n",
              "      <td>6.101038</td>\n",
              "      <td>1.205493</td>\n",
              "      <td>12110.011237</td>\n",
              "    </tr>\n",
              "    <tr>\n",
              "      <th>min</th>\n",
              "      <td>18.000000</td>\n",
              "      <td>15.960000</td>\n",
              "      <td>0.000000</td>\n",
              "      <td>1121.873900</td>\n",
              "    </tr>\n",
              "    <tr>\n",
              "      <th>25%</th>\n",
              "      <td>27.000000</td>\n",
              "      <td>26.302500</td>\n",
              "      <td>0.000000</td>\n",
              "      <td>4740.287150</td>\n",
              "    </tr>\n",
              "    <tr>\n",
              "      <th>50%</th>\n",
              "      <td>39.000000</td>\n",
              "      <td>30.400000</td>\n",
              "      <td>1.000000</td>\n",
              "      <td>9382.033000</td>\n",
              "    </tr>\n",
              "    <tr>\n",
              "      <th>75%</th>\n",
              "      <td>51.000000</td>\n",
              "      <td>34.687500</td>\n",
              "      <td>2.000000</td>\n",
              "      <td>16639.912515</td>\n",
              "    </tr>\n",
              "    <tr>\n",
              "      <th>max</th>\n",
              "      <td>64.000000</td>\n",
              "      <td>53.130000</td>\n",
              "      <td>5.000000</td>\n",
              "      <td>63770.428010</td>\n",
              "    </tr>\n",
              "  </tbody>\n",
              "</table>\n",
              "</div>\n",
              "      <button class=\"colab-df-convert\" onclick=\"convertToInteractive('df-7bd9d3a8-f21b-4c48-81ac-e1514f9a6bdd')\"\n",
              "              title=\"Convert this dataframe to an interactive table.\"\n",
              "              style=\"display:none;\">\n",
              "        \n",
              "  <svg xmlns=\"http://www.w3.org/2000/svg\" height=\"24px\"viewBox=\"0 0 24 24\"\n",
              "       width=\"24px\">\n",
              "    <path d=\"M0 0h24v24H0V0z\" fill=\"none\"/>\n",
              "    <path d=\"M18.56 5.44l.94 2.06.94-2.06 2.06-.94-2.06-.94-.94-2.06-.94 2.06-2.06.94zm-11 1L8.5 8.5l.94-2.06 2.06-.94-2.06-.94L8.5 2.5l-.94 2.06-2.06.94zm10 10l.94 2.06.94-2.06 2.06-.94-2.06-.94-.94-2.06-.94 2.06-2.06.94z\"/><path d=\"M17.41 7.96l-1.37-1.37c-.4-.4-.92-.59-1.43-.59-.52 0-1.04.2-1.43.59L10.3 9.45l-7.72 7.72c-.78.78-.78 2.05 0 2.83L4 21.41c.39.39.9.59 1.41.59.51 0 1.02-.2 1.41-.59l7.78-7.78 2.81-2.81c.8-.78.8-2.07 0-2.86zM5.41 20L4 18.59l7.72-7.72 1.47 1.35L5.41 20z\"/>\n",
              "  </svg>\n",
              "      </button>\n",
              "      \n",
              "  <style>\n",
              "    .colab-df-container {\n",
              "      display:flex;\n",
              "      flex-wrap:wrap;\n",
              "      gap: 12px;\n",
              "    }\n",
              "\n",
              "    .colab-df-convert {\n",
              "      background-color: #E8F0FE;\n",
              "      border: none;\n",
              "      border-radius: 50%;\n",
              "      cursor: pointer;\n",
              "      display: none;\n",
              "      fill: #1967D2;\n",
              "      height: 32px;\n",
              "      padding: 0 0 0 0;\n",
              "      width: 32px;\n",
              "    }\n",
              "\n",
              "    .colab-df-convert:hover {\n",
              "      background-color: #E2EBFA;\n",
              "      box-shadow: 0px 1px 2px rgba(60, 64, 67, 0.3), 0px 1px 3px 1px rgba(60, 64, 67, 0.15);\n",
              "      fill: #174EA6;\n",
              "    }\n",
              "\n",
              "    [theme=dark] .colab-df-convert {\n",
              "      background-color: #3B4455;\n",
              "      fill: #D2E3FC;\n",
              "    }\n",
              "\n",
              "    [theme=dark] .colab-df-convert:hover {\n",
              "      background-color: #434B5C;\n",
              "      box-shadow: 0px 1px 3px 1px rgba(0, 0, 0, 0.15);\n",
              "      filter: drop-shadow(0px 1px 2px rgba(0, 0, 0, 0.3));\n",
              "      fill: #FFFFFF;\n",
              "    }\n",
              "  </style>\n",
              "\n",
              "      <script>\n",
              "        const buttonEl =\n",
              "          document.querySelector('#df-7bd9d3a8-f21b-4c48-81ac-e1514f9a6bdd button.colab-df-convert');\n",
              "        buttonEl.style.display =\n",
              "          google.colab.kernel.accessAllowed ? 'block' : 'none';\n",
              "\n",
              "        async function convertToInteractive(key) {\n",
              "          const element = document.querySelector('#df-7bd9d3a8-f21b-4c48-81ac-e1514f9a6bdd');\n",
              "          const dataTable =\n",
              "            await google.colab.kernel.invokeFunction('convertToInteractive',\n",
              "                                                     [key], {});\n",
              "          if (!dataTable) return;\n",
              "\n",
              "          const docLinkHtml = 'Like what you see? Visit the ' +\n",
              "            '<a target=\"_blank\" href=https://colab.research.google.com/notebooks/data_table.ipynb>data table notebook</a>'\n",
              "            + ' to learn more about interactive tables.';\n",
              "          element.innerHTML = '';\n",
              "          dataTable['output_type'] = 'display_data';\n",
              "          await google.colab.output.renderOutput(dataTable, element);\n",
              "          const docLink = document.createElement('div');\n",
              "          docLink.innerHTML = docLinkHtml;\n",
              "          element.appendChild(docLink);\n",
              "        }\n",
              "      </script>\n",
              "    </div>\n",
              "  </div>\n",
              "  "
            ]
          },
          "metadata": {},
          "execution_count": 6
        }
      ]
    },
    {
      "cell_type": "markdown",
      "metadata": {
        "id": "cp4rE9yyjkua"
      },
      "source": [
        "#### Distribution of charges\n",
        "\n",
        "First, let's look at the distribution of charges. This will help us to know how much patients spend on treatment on average."
      ]
    },
    {
      "cell_type": "code",
      "metadata": {
        "id": "A9VxLmCMjhtZ",
        "colab": {
          "base_uri": "https://localhost:8080/",
          "height": 472
        },
        "outputId": "4813ff9b-51d1-4383-937f-2331a1967dde"
      },
      "source": [
        "# plot the histogram of the charges\n",
        "data[\"charges\"].plot(kind=\"hist\")\n",
        "plt.title(\"Distribution of charges\")\n",
        "plt.xlabel(\"Charges\")\n",
        "plt.ylabel(\"Frequency\")\n",
        "plt.show()"
      ],
      "execution_count": null,
      "outputs": [
        {
          "output_type": "display_data",
          "data": {
            "text/plain": [
              "<Figure size 640x480 with 1 Axes>"
            ],
            "image/png": "[encoded data removed]"
          },
          "metadata": {}
        }
      ]
    },
    {
      "cell_type": "markdown",
      "metadata": {
        "id": "-C6DoqLJkZaJ"
      },
      "source": [
        "#### Correlation between smoking and cost of treatment\n",
        "\n",
        "Let's see if smokers spend more or less on treatment than non-smokers!\n",
        "\n",
        "First, let's see how many smokers vs non-smokers we have."
      ]
    },
    {
      "cell_type": "code",
      "metadata": {
        "id": "2bYxq0B4m4eg",
        "colab": {
          "base_uri": "https://localhost:8080/"
        },
        "outputId": "9081bd95-0064-42da-b3a1-f10d53c030ea"
      },
      "source": [
        "# select smokers\n",
        "smokers = data[(data.smoker == \"yes\")]\n",
        "\n",
        "# select non smokers\n",
        "non_smokers = data[(data.smoker == \"no\")]\n",
        "\n",
        "print('There are {} smokers and {} non-smokers.'.format(smokers.shape[0], non_smokers.shape[0]))"
      ],
      "execution_count": null,
      "outputs": [
        {
          "output_type": "stream",
          "text": [
            "There are 274 smokers and 1064 non-smokers.\n"
          ],
          "name": "stdout"
        }
      ]
    },
    {
      "cell_type": "markdown",
      "metadata": {
        "id": "0V4oPfA3nMqt"
      },
      "source": [
        "Now let's plot the charges for both."
      ]
    },
    {
      "cell_type": "code",
      "metadata": {
        "id": "uwn0w9SKj9AZ",
        "colab": {
          "base_uri": "https://localhost:8080/",
          "height": 354
        },
        "outputId": "d23bd611-d4c2-4d9b-cd29-99dd613a189f"
      },
      "source": [
        "# create the figure\n",
        "fig = plt.figure(figsize=(12,5))\n",
        "\n",
        "# add first sub plot for smokers\n",
        "ax = fig.add_subplot(121)\n",
        "# draw distribution of charges for smokers\n",
        "ax.hist(smokers[\"charges\"])\n",
        "# set sub plot title\n",
        "ax.set_title('Distribution of charges for smokers')\n",
        "\n",
        "# add second sub plot for non smokers\n",
        "ax = fig.add_subplot(122)\n",
        "# draw distribution of charges for non-smokers\n",
        "ax.hist(non_smokers[\"charges\"])\n",
        "# set sub plot title\n",
        "ax.set_title('Distribution of charges for non-smokers')"
      ],
      "execution_count": null,
      "outputs": [
        {
          "output_type": "execute_result",
          "data": {
            "text/plain": [
              "Text(0.5, 1.0, 'Distribution of charges for non-smokers')"
            ]
          },
          "metadata": {
            "tags": []
          },
          "execution_count": 9
        },
        {
          "output_type": "display_data",
          "data": {
            "image/png": "[encoded data removed]",
            "text/plain": [
              "<Figure size 864x360 with 2 Axes>"
            ]
          },
          "metadata": {
            "tags": [],
            "needs_background": "light"
          }
        }
      ]
    },
    {
      "cell_type": "markdown",
      "metadata": {
        "id": "9h3TXsFXVoKy"
      },
      "source": [
        "Smoking patients spend more on treatment."
      ]
    },
    {
      "cell_type": "markdown",
      "metadata": {
        "id": "z764ssFHV7KM"
      },
      "source": [
        "#### Correlation between age and cost of treatment\n",
        "\n",
        "First, let's look at the distribution of age in our dataset, and then look at how age affects the cost of treatment."
      ]
    },
    {
      "cell_type": "code",
      "metadata": {
        "id": "G6Z5JkrLlEbV",
        "colab": {
          "base_uri": "https://localhost:8080/",
          "height": 295
        },
        "outputId": "1ec612db-d1b0-486d-ca69-3cf088ff53c3"
      },
      "source": [
        "# plot histogram for age distribution\n",
        "plt.hist(data[\"age\"])\n",
        "plt.title(\"Age distribution\")\n",
        "plt.xlabel(\"Age\")\n",
        "plt.ylabel(\"Frequency\")\n",
        "plt.show()"
      ],
      "execution_count": null,
      "outputs": [
        {
          "output_type": "display_data",
          "data": {
            "image/png": "[encoded data removed]",
            "text/plain": [
              "<Figure size 432x288 with 1 Axes>"
            ]
          },
          "metadata": {
            "tags": [],
            "needs_background": "light"
          }
        }
      ]
    },
    {
      "cell_type": "markdown",
      "metadata": {
        "id": "Y57UaJL_Wyyr"
      },
      "source": [
        "Let's plot the correlation between age and cost of treatment"
      ]
    },
    {
      "cell_type": "code",
      "metadata": {
        "id": "sGC1lp-yWaWz",
        "colab": {
          "base_uri": "https://localhost:8080/",
          "height": 295
        },
        "outputId": "d2164904-c092-4282-a0d7-dfb37e1a7b59"
      },
      "source": [
        "# draw a scatter plot to show correlation between age and charges\n",
        "plt.scatter(data[\"age\"], data[\"charges\"])\n",
        "plt.title(\"Cost of treatment for different ages\")\n",
        "plt.xlabel(\"Age\")\n",
        "plt.ylabel(\"Charges\")\n",
        "plt.show()"
      ],
      "execution_count": null,
      "outputs": [
        {
          "output_type": "display_data",
          "data": {
            "image/png": "[encoded data removed]",
            "text/plain": [
              "<Figure size 432x288 with 1 Axes>"
            ]
          },
          "metadata": {
            "tags": [],
            "needs_background": "light"
          }
        }
      ]
    },
    {
      "cell_type": "markdown",
      "metadata": {
        "id": "5BvsdKyFcf2X"
      },
      "source": [
        "Let's check if smoking also affects this curve.\n",
        "\n",
        "**Task**: show a scatter plot with the correlation between age and cost of treatment while showing smokers in red and non-smokers in blue"
      ]
    },
    {
      "cell_type": "code",
      "metadata": {
        "id": "VEcAVCLrcMEF",
        "colab": {
          "base_uri": "https://localhost:8080/",
          "height": 295
        },
        "outputId": "b65fbdc2-3894-4122-d211-fed4e106ffd7"
      },
      "source": [
        "plt.scatter(smokers[\"age\"], smokers[\"charges\"], color='r')\n",
        "plt.scatter(non_smokers[\"age\"], non_smokers[\"charges\"], color='b')\n",
        "plt.title(\"Cost of treatment for different ages\")\n",
        "plt.xlabel(\"Age\")\n",
        "plt.ylabel(\"Charges\")\n",
        "plt.show()"
      ],
      "execution_count": null,
      "outputs": [
        {
          "output_type": "display_data",
          "data": {
            "image/png": "[encoded data removed]",
            "text/plain": [
              "<Figure size 432x288 with 1 Axes>"
            ]
          },
          "metadata": {
            "tags": [],
            "needs_background": "light"
          }
        }
      ]
    },
    {
      "cell_type": "markdown",
      "metadata": {
        "id": "NYL_dQSKgEER"
      },
      "source": [
        "#### Correlation between BMI and cost of treatment\n",
        "\n",
        "# Body Mass Index\n",
        "\n",
        "![alt text](https://4.bp.blogspot.com/-nBF9Z1tFGhI/W3MqbdD0j7I/AAAAAAAAAIs/UdyXTIxsBT8Pl8usABxEK_Fusj5S0SnBQCLcBGAs/s1600/HOW%2BTO%2BCALCULATE%2BBODY%2BMASS%2BINDEX%2BBMI.jpg)\n",
        "\n",
        "# BMI Chart\n",
        "\n",
        "![BMI char](https://images.squarespace-cdn.com/content/v1/56fae4be1d07c0c393d8faa5/1551103826935-HCXS8U78500C06GQ1PLJ/ke17ZwdGBToddI8pDm48kNMeyc_nGAbaGjp3EBJ2o08UqsxRUqqbr1mOJYKfIPR7LoDQ9mXPOjoJoqy81S2I8N_N4V1vUb5AoIIIbLZhVYxCRW4BPu10St3TBAUQYVKckzCNDuUMr1wTvf7-fqd2hrX5O2-_PoO3UJ2jNU1VzJbe6G9-F0r9BTATNUu-NBMy/BMI+Chart.jpg)\n",
        "\n",
        "First, let's look at the distribution of BMI in our dataset, and then look at how it affects the cost of treatment."
      ]
    },
    {
      "cell_type": "code",
      "metadata": {
        "id": "h9EfbSkKYIlR",
        "colab": {
          "base_uri": "https://localhost:8080/",
          "height": 295
        },
        "outputId": "2167b4a9-759d-48e7-f19b-0d34ab023927"
      },
      "source": [
        "# draw a histogram to show the distribution of BMI\n",
        "data[\"bmi\"].plot(kind=\"hist\")\n",
        "plt.title(\"BMI distribution\")\n",
        "plt.xlabel(\"BMI\")\n",
        "plt.ylabel(\"Frequency\")\n",
        "plt.show()"
      ],
      "execution_count": null,
      "outputs": [
        {
          "output_type": "display_data",
          "data": {
            "image/png": "[encoded data removed]",
            "text/plain": [
              "<Figure size 432x288 with 1 Axes>"
            ]
          },
          "metadata": {
            "tags": [],
            "needs_background": "light"
          }
        }
      ]
    },
    {
      "cell_type": "markdown",
      "metadata": {
        "id": "j-_7LOLyDrzw"
      },
      "source": [
        "According to the chart above, obesity starts at BMI = 30. Let's investigate the impact of BMI on cost of treatment."
      ]
    },
    {
      "cell_type": "code",
      "metadata": {
        "id": "q-lFGDOakFUT",
        "colab": {
          "base_uri": "https://localhost:8080/"
        },
        "outputId": "f25b4d0f-2286-495c-aba2-749bef014d16"
      },
      "source": [
        "# select obese people\n",
        "obese = data[(data[\"bmi\"] >= 30)]\n",
        "# select overweight people\n",
        "overweight = data[(data[\"bmi\"] >= 25) & (data[\"bmi\"] < 30)]\n",
        "# select healthy people\n",
        "healthy = data[(data[\"bmi\"] < 25) & (data[\"bmi\"] >= 18 )]\n",
        "# select underweight people\n",
        "underweight = data[(data[\"bmi\"] < 18 )]\n",
        "\n",
        "print('There are {} obese, {} overweight, {} healthy, and {} underweight individuals.'.format(obese.shape[0], overweight.shape[0], healthy.shape[0], underweight.shape[0]))"
      ],
      "execution_count": null,
      "outputs": [
        {
          "output_type": "stream",
          "text": [
            "There are 705 obese, 385 overweight, 230 healthy, and 15 underweight individuals.\n"
          ],
          "name": "stdout"
        }
      ]
    },
    {
      "cell_type": "markdown",
      "metadata": {
        "id": "vVLLEIcXEJsb"
      },
      "source": [
        "To compare, let's plot the distribution of charges for all 3 groups (obese, overweight and healthy) in 1 plot, while showing `obese` data in red, `overweight` data in yellow and `healthy` data in green."
      ]
    },
    {
      "cell_type": "code",
      "metadata": {
        "id": "DXV1VtltgJFm",
        "colab": {
          "base_uri": "https://localhost:8080/",
          "height": 295
        },
        "outputId": "1792c522-4fb6-4e67-ac35-339ea461789c"
      },
      "source": [
        "plt.hist(obese[\"charges\"], color='r')\n",
        "plt.hist(overweight[\"charges\"], color='y')\n",
        "plt.hist(healthy[\"charges\"], color='g')\n",
        "plt.hist(underweight[\"charges\"], color='b')\n",
        "plt.title(\"Charges distribution\")\n",
        "plt.xlabel(\"Charges\")\n",
        "plt.ylabel(\"Frequency\")\n",
        "plt.show()"
      ],
      "execution_count": null,
      "outputs": [
        {
          "output_type": "display_data",
          "data": {
            "image/png": "[encoded data removed]",
            "text/plain": [
              "<Figure size 432x288 with 1 Axes>"
            ]
          },
          "metadata": {
            "tags": [],
            "needs_background": "light"
          }
        }
      ]
    },
    {
      "cell_type": "markdown",
      "metadata": {
        "id": "DtB8jDMZnLcT"
      },
      "source": [
        "Patients with BMI above 30 spend more on treatment!"
      ]
    },
    {
      "cell_type": "markdown",
      "metadata": {
        "id": "g3X3fDBXnX16"
      },
      "source": [
        "## 3. Data Preprocessing\n",
        "\"Garbage in, garbage out\".\n",
        "\n",
        "Data should be preprocessed and cleaned to get rid of noisy data.\n",
        "Preprocessing includes:\n",
        " - dealing with missing data\n",
        "   - remove whole rows (if they are not a lot)\n",
        "   - infer (e.g., date of birth & age)\n",
        "   - fill with mean, median, or even 0\n",
        " - removing unsued column(s)\n",
        " - convert categorical (non numerical) data into numerical\n",
        " - normalization: standarize data ranges for all features (e.g., between 0 and 1)\n",
        "\n",
        "\n",
        "\n",
        "---\n",
        "\n",
        "\n",
        "\n",
        " Let's start by removing missing data."
      ]
    },
    {
      "cell_type": "code",
      "metadata": {
        "id": "mslOEw7wmf_N",
        "colab": {
          "base_uri": "https://localhost:8080/"
        },
        "outputId": "db19b3c9-e523-44db-976d-5ecda90c38ca"
      },
      "source": [
        "# print how many missing value in each column\n",
        "data.isnull().sum()"
      ],
      "execution_count": null,
      "outputs": [
        {
          "output_type": "execute_result",
          "data": {
            "text/plain": [
              "age         0\n",
              "sex         0\n",
              "bmi         3\n",
              "children    0\n",
              "smoker      0\n",
              "region      0\n",
              "charges     0\n",
              "dtype: int64"
            ]
          },
          "metadata": {
            "tags": []
          },
          "execution_count": 16
        }
      ]
    },
    {
      "cell_type": "code",
      "metadata": {
        "id": "ZXvduiy1nckz",
        "colab": {
          "base_uri": "https://localhost:8080/"
        },
        "outputId": "22f0b85b-46a6-4dd7-b007-a11076f569d5"
      },
      "source": [
        "# drop rows with missing values\n",
        "data = data.dropna()\n",
        "data.isnull().sum()"
      ],
      "execution_count": null,
      "outputs": [
        {
          "output_type": "execute_result",
          "data": {
            "text/plain": [
              "age         0\n",
              "sex         0\n",
              "bmi         0\n",
              "children    0\n",
              "smoker      0\n",
              "region      0\n",
              "charges     0\n",
              "dtype: int64"
            ]
          },
          "metadata": {},
          "execution_count": 4
        }
      ]
    },
    {
      "cell_type": "code",
      "metadata": {
        "id": "bSEzYUz-nevs",
        "colab": {
          "base_uri": "https://localhost:8080/"
        },
        "outputId": "318e05bc-35fa-4bde-fb45-dae192e99488"
      },
      "source": [
        "data.info()"
      ],
      "execution_count": null,
      "outputs": [
        {
          "output_type": "stream",
          "name": "stdout",
          "text": [
            "<class 'pandas.core.frame.DataFrame'>\n",
            "Int64Index: 1335 entries, 0 to 1337\n",
            "Data columns (total 7 columns):\n",
            " #   Column    Non-Null Count  Dtype  \n",
            "---  ------    --------------  -----  \n",
            " 0   age       1335 non-null   int64  \n",
            " 1   sex       1335 non-null   object \n",
            " 2   bmi       1335 non-null   float64\n",
            " 3   children  1335 non-null   int64  \n",
            " 4   smoker    1335 non-null   object \n",
            " 5   region    1335 non-null   object \n",
            " 6   charges   1335 non-null   float64\n",
            "dtypes: float64(2), int64(2), object(3)\n",
            "memory usage: 83.4+ KB\n"
          ]
        }
      ]
    },
    {
      "cell_type": "markdown",
      "metadata": {
        "id": "rT-M7TYitDT8"
      },
      "source": [
        "#### Remove unused columns\n",
        "\n",
        "Let's remove the `region` column since we don't really care about it"
      ]
    },
    {
      "cell_type": "code",
      "metadata": {
        "id": "YdCm-boktOto",
        "colab": {
          "base_uri": "https://localhost:8080/",
          "height": 270
        },
        "outputId": "9980a45c-d8d8-4d81-9c6b-38438771e94b"
      },
      "source": [
        "# dropping the region feature\n",
        "data.drop(\"region\", axis=1, inplace=True)\n",
        "data.head()"
      ],
      "execution_count": null,
      "outputs": [
        {
          "output_type": "execute_result",
          "data": {
            "text/plain": [
              "   age     sex     bmi  children smoker      charges\n",
              "0   19  female  27.900         0    yes  16884.92400\n",
              "1   18    male  33.770         1     no   1725.55230\n",
              "2   28    male  33.000         3     no   4449.46200\n",
              "3   33    male  22.705         0     no  21984.47061\n",
              "4   32    male  28.880         0     no   3866.85520"
            ],
            "text/html": [
              "\n",
              "  <div id=\"df-8b01f7a7-1b78-425f-8bb0-613fc7ce5294\">\n",
              "    <div class=\"colab-df-container\">\n",
              "      <div>\n",
              "<style scoped>\n",
              "    .dataframe tbody tr th:only-of-type {\n",
              "        vertical-align: middle;\n",
              "    }\n",
              "\n",
              "    .dataframe tbody tr th {\n",
              "        vertical-align: top;\n",
              "    }\n",
              "\n",
              "    .dataframe thead th {\n",
              "        text-align: right;\n",
              "    }\n",
              "</style>\n",
              "<table border=\"1\" class=\"dataframe\">\n",
              "  <thead>\n",
              "    <tr style=\"text-align: right;\">\n",
              "      <th></th>\n",
              "      <th>age</th>\n",
              "      <th>sex</th>\n",
              "      <th>bmi</th>\n",
              "      <th>children</th>\n",
              "      <th>smoker</th>\n",
              "      <th>charges</th>\n",
              "    </tr>\n",
              "  </thead>\n",
              "  <tbody>\n",
              "    <tr>\n",
              "      <th>0</th>\n",
              "      <td>19</td>\n",
              "      <td>female</td>\n",
              "      <td>27.900</td>\n",
              "      <td>0</td>\n",
              "      <td>yes</td>\n",
              "      <td>16884.92400</td>\n",
              "    </tr>\n",
              "    <tr>\n",
              "      <th>1</th>\n",
              "      <td>18</td>\n",
              "      <td>male</td>\n",
              "      <td>33.770</td>\n",
              "      <td>1</td>\n",
              "      <td>no</td>\n",
              "      <td>1725.55230</td>\n",
              "    </tr>\n",
              "    <tr>\n",
              "      <th>2</th>\n",
              "      <td>28</td>\n",
              "      <td>male</td>\n",
              "      <td>33.000</td>\n",
              "      <td>3</td>\n",
              "      <td>no</td>\n",
              "      <td>4449.46200</td>\n",
              "    </tr>\n",
              "    <tr>\n",
              "      <th>3</th>\n",
              "      <td>33</td>\n",
              "      <td>male</td>\n",
              "      <td>22.705</td>\n",
              "      <td>0</td>\n",
              "      <td>no</td>\n",
              "      <td>21984.47061</td>\n",
              "    </tr>\n",
              "    <tr>\n",
              "      <th>4</th>\n",
              "      <td>32</td>\n",
              "      <td>male</td>\n",
              "      <td>28.880</td>\n",
              "      <td>0</td>\n",
              "      <td>no</td>\n",
              "      <td>3866.85520</td>\n",
              "    </tr>\n",
              "  </tbody>\n",
              "</table>\n",
              "</div>\n",
              "      <button class=\"colab-df-convert\" onclick=\"convertToInteractive('df-8b01f7a7-1b78-425f-8bb0-613fc7ce5294')\"\n",
              "              title=\"Convert this dataframe to an interactive table.\"\n",
              "              style=\"display:none;\">\n",
              "        \n",
              "  <svg xmlns=\"http://www.w3.org/2000/svg\" height=\"24px\"viewBox=\"0 0 24 24\"\n",
              "       width=\"24px\">\n",
              "    <path d=\"M0 0h24v24H0V0z\" fill=\"none\"/>\n",
              "    <path d=\"M18.56 5.44l.94 2.06.94-2.06 2.06-.94-2.06-.94-.94-2.06-.94 2.06-2.06.94zm-11 1L8.5 8.5l.94-2.06 2.06-.94-2.06-.94L8.5 2.5l-.94 2.06-2.06.94zm10 10l.94 2.06.94-2.06 2.06-.94-2.06-.94-.94-2.06-.94 2.06-2.06.94z\"/><path d=\"M17.41 7.96l-1.37-1.37c-.4-.4-.92-.59-1.43-.59-.52 0-1.04.2-1.43.59L10.3 9.45l-7.72 7.72c-.78.78-.78 2.05 0 2.83L4 21.41c.39.39.9.59 1.41.59.51 0 1.02-.2 1.41-.59l7.78-7.78 2.81-2.81c.8-.78.8-2.07 0-2.86zM5.41 20L4 18.59l7.72-7.72 1.47 1.35L5.41 20z\"/>\n",
              "  </svg>\n",
              "      </button>\n",
              "      \n",
              "  <style>\n",
              "    .colab-df-container {\n",
              "      display:flex;\n",
              "      flex-wrap:wrap;\n",
              "      gap: 12px;\n",
              "    }\n",
              "\n",
              "    .colab-df-convert {\n",
              "      background-color: #E8F0FE;\n",
              "      border: none;\n",
              "      border-radius: 50%;\n",
              "      cursor: pointer;\n",
              "      display: none;\n",
              "      fill: #1967D2;\n",
              "      height: 32px;\n",
              "      padding: 0 0 0 0;\n",
              "      width: 32px;\n",
              "    }\n",
              "\n",
              "    .colab-df-convert:hover {\n",
              "      background-color: #E2EBFA;\n",
              "      box-shadow: 0px 1px 2px rgba(60, 64, 67, 0.3), 0px 1px 3px 1px rgba(60, 64, 67, 0.15);\n",
              "      fill: #174EA6;\n",
              "    }\n",
              "\n",
              "    [theme=dark] .colab-df-convert {\n",
              "      background-color: #3B4455;\n",
              "      fill: #D2E3FC;\n",
              "    }\n",
              "\n",
              "    [theme=dark] .colab-df-convert:hover {\n",
              "      background-color: #434B5C;\n",
              "      box-shadow: 0px 1px 3px 1px rgba(0, 0, 0, 0.15);\n",
              "      filter: drop-shadow(0px 1px 2px rgba(0, 0, 0, 0.3));\n",
              "      fill: #FFFFFF;\n",
              "    }\n",
              "  </style>\n",
              "\n",
              "      <script>\n",
              "        const buttonEl =\n",
              "          document.querySelector('#df-8b01f7a7-1b78-425f-8bb0-613fc7ce5294 button.colab-df-convert');\n",
              "        buttonEl.style.display =\n",
              "          google.colab.kernel.accessAllowed ? 'block' : 'none';\n",
              "\n",
              "        async function convertToInteractive(key) {\n",
              "          const element = document.querySelector('#df-8b01f7a7-1b78-425f-8bb0-613fc7ce5294');\n",
              "          const dataTable =\n",
              "            await google.colab.kernel.invokeFunction('convertToInteractive',\n",
              "                                                     [key], {});\n",
              "          if (!dataTable) return;\n",
              "\n",
              "          const docLinkHtml = 'Like what you see? Visit the ' +\n",
              "            '<a target=\"_blank\" href=https://colab.research.google.com/notebooks/data_table.ipynb>data table notebook</a>'\n",
              "            + ' to learn more about interactive tables.';\n",
              "          element.innerHTML = '';\n",
              "          dataTable['output_type'] = 'display_data';\n",
              "          await google.colab.output.renderOutput(dataTable, element);\n",
              "          const docLink = document.createElement('div');\n",
              "          docLink.innerHTML = docLinkHtml;\n",
              "          element.appendChild(docLink);\n",
              "        }\n",
              "      </script>\n",
              "    </div>\n",
              "  </div>\n",
              "  "
            ]
          },
          "metadata": {},
          "execution_count": 6
        }
      ]
    },
    {
      "cell_type": "code",
      "source": [
        "data.info()\n",
        "#Here columns sex and smoker are still an object"
      ],
      "metadata": {
        "colab": {
          "base_uri": "https://localhost:8080/"
        },
        "id": "5UZ0aU82ikBA",
        "outputId": "29583dc1-cf0d-4c22-e7b0-8c7c23b275ed"
      },
      "execution_count": null,
      "outputs": [
        {
          "output_type": "stream",
          "name": "stdout",
          "text": [
            "<class 'pandas.core.frame.DataFrame'>\n",
            "Int64Index: 1335 entries, 0 to 1337\n",
            "Data columns (total 6 columns):\n",
            " #   Column    Non-Null Count  Dtype  \n",
            "---  ------    --------------  -----  \n",
            " 0   age       1335 non-null   int64  \n",
            " 1   sex       1335 non-null   object \n",
            " 2   bmi       1335 non-null   float64\n",
            " 3   children  1335 non-null   int64  \n",
            " 4   smoker    1335 non-null   object \n",
            " 5   charges   1335 non-null   float64\n",
            "dtypes: float64(2), int64(2), object(2)\n",
            "memory usage: 73.0+ KB\n"
          ]
        }
      ]
    },
    {
      "cell_type": "markdown",
      "metadata": {
        "id": "VGcXlEP6ryIZ"
      },
      "source": [
        "#### Convert Categorical columns to numerical\n",
        "\n",
        "*   We need to convert the sex column from male/female to 0/1.\n",
        "*   We need to convert the smoker column from no/yes to 0/1.\n",
        "\n",
        "\n",
        "Let's start with the sex column\n",
        "\n"
      ]
    },
    {
      "cell_type": "code",
      "metadata": {
        "id": "cpEbrz7HnfuY",
        "colab": {
          "base_uri": "https://localhost:8080/",
          "height": 270
        },
        "outputId": "c7768c88-674f-4d85-9058-7eb3fe9f68ab"
      },
      "source": [
        "# define dictionary\n",
        "gender = {'male':0, 'female':1}\n",
        "# replace sex column with 0/1\n",
        "data['sex'] = data['sex'].apply(lambda x: gender[x])\n",
        "# print head to verify\n",
        "data.head()"
      ],
      "execution_count": null,
      "outputs": [
        {
          "output_type": "execute_result",
          "data": {
            "text/plain": [
              "   age  sex     bmi  children smoker      charges\n",
              "0   19    1  27.900         0    yes  16884.92400\n",
              "1   18    0  33.770         1     no   1725.55230\n",
              "2   28    0  33.000         3     no   4449.46200\n",
              "3   33    0  22.705         0     no  21984.47061\n",
              "4   32    0  28.880         0     no   3866.85520"
            ],
            "text/html": [
              "\n",
              "  <div id=\"df-04dd094e-5639-4cde-8073-0cfaa96f8fa4\">\n",
              "    <div class=\"colab-df-container\">\n",
              "      <div>\n",
              "<style scoped>\n",
              "    .dataframe tbody tr th:only-of-type {\n",
              "        vertical-align: middle;\n",
              "    }\n",
              "\n",
              "    .dataframe tbody tr th {\n",
              "        vertical-align: top;\n",
              "    }\n",
              "\n",
              "    .dataframe thead th {\n",
              "        text-align: right;\n",
              "    }\n",
              "</style>\n",
              "<table border=\"1\" class=\"dataframe\">\n",
              "  <thead>\n",
              "    <tr style=\"text-align: right;\">\n",
              "      <th></th>\n",
              "      <th>age</th>\n",
              "      <th>sex</th>\n",
              "      <th>bmi</th>\n",
              "      <th>children</th>\n",
              "      <th>smoker</th>\n",
              "      <th>charges</th>\n",
              "    </tr>\n",
              "  </thead>\n",
              "  <tbody>\n",
              "    <tr>\n",
              "      <th>0</th>\n",
              "      <td>19</td>\n",
              "      <td>1</td>\n",
              "      <td>27.900</td>\n",
              "      <td>0</td>\n",
              "      <td>yes</td>\n",
              "      <td>16884.92400</td>\n",
              "    </tr>\n",
              "    <tr>\n",
              "      <th>1</th>\n",
              "      <td>18</td>\n",
              "      <td>0</td>\n",
              "      <td>33.770</td>\n",
              "      <td>1</td>\n",
              "      <td>no</td>\n",
              "      <td>1725.55230</td>\n",
              "    </tr>\n",
              "    <tr>\n",
              "      <th>2</th>\n",
              "      <td>28</td>\n",
              "      <td>0</td>\n",
              "      <td>33.000</td>\n",
              "      <td>3</td>\n",
              "      <td>no</td>\n",
              "      <td>4449.46200</td>\n",
              "    </tr>\n",
              "    <tr>\n",
              "      <th>3</th>\n",
              "      <td>33</td>\n",
              "      <td>0</td>\n",
              "      <td>22.705</td>\n",
              "      <td>0</td>\n",
              "      <td>no</td>\n",
              "      <td>21984.47061</td>\n",
              "    </tr>\n",
              "    <tr>\n",
              "      <th>4</th>\n",
              "      <td>32</td>\n",
              "      <td>0</td>\n",
              "      <td>28.880</td>\n",
              "      <td>0</td>\n",
              "      <td>no</td>\n",
              "      <td>3866.85520</td>\n",
              "    </tr>\n",
              "  </tbody>\n",
              "</table>\n",
              "</div>\n",
              "      <button class=\"colab-df-convert\" onclick=\"convertToInteractive('df-04dd094e-5639-4cde-8073-0cfaa96f8fa4')\"\n",
              "              title=\"Convert this dataframe to an interactive table.\"\n",
              "              style=\"display:none;\">\n",
              "        \n",
              "  <svg xmlns=\"http://www.w3.org/2000/svg\" height=\"24px\"viewBox=\"0 0 24 24\"\n",
              "       width=\"24px\">\n",
              "    <path d=\"M0 0h24v24H0V0z\" fill=\"none\"/>\n",
              "    <path d=\"M18.56 5.44l.94 2.06.94-2.06 2.06-.94-2.06-.94-.94-2.06-.94 2.06-2.06.94zm-11 1L8.5 8.5l.94-2.06 2.06-.94-2.06-.94L8.5 2.5l-.94 2.06-2.06.94zm10 10l.94 2.06.94-2.06 2.06-.94-2.06-.94-.94-2.06-.94 2.06-2.06.94z\"/><path d=\"M17.41 7.96l-1.37-1.37c-.4-.4-.92-.59-1.43-.59-.52 0-1.04.2-1.43.59L10.3 9.45l-7.72 7.72c-.78.78-.78 2.05 0 2.83L4 21.41c.39.39.9.59 1.41.59.51 0 1.02-.2 1.41-.59l7.78-7.78 2.81-2.81c.8-.78.8-2.07 0-2.86zM5.41 20L4 18.59l7.72-7.72 1.47 1.35L5.41 20z\"/>\n",
              "  </svg>\n",
              "      </button>\n",
              "      \n",
              "  <style>\n",
              "    .colab-df-container {\n",
              "      display:flex;\n",
              "      flex-wrap:wrap;\n",
              "      gap: 12px;\n",
              "    }\n",
              "\n",
              "    .colab-df-convert {\n",
              "      background-color: #E8F0FE;\n",
              "      border: none;\n",
              "      border-radius: 50%;\n",
              "      cursor: pointer;\n",
              "      display: none;\n",
              "      fill: #1967D2;\n",
              "      height: 32px;\n",
              "      padding: 0 0 0 0;\n",
              "      width: 32px;\n",
              "    }\n",
              "\n",
              "    .colab-df-convert:hover {\n",
              "      background-color: #E2EBFA;\n",
              "      box-shadow: 0px 1px 2px rgba(60, 64, 67, 0.3), 0px 1px 3px 1px rgba(60, 64, 67, 0.15);\n",
              "      fill: #174EA6;\n",
              "    }\n",
              "\n",
              "    [theme=dark] .colab-df-convert {\n",
              "      background-color: #3B4455;\n",
              "      fill: #D2E3FC;\n",
              "    }\n",
              "\n",
              "    [theme=dark] .colab-df-convert:hover {\n",
              "      background-color: #434B5C;\n",
              "      box-shadow: 0px 1px 3px 1px rgba(0, 0, 0, 0.15);\n",
              "      filter: drop-shadow(0px 1px 2px rgba(0, 0, 0, 0.3));\n",
              "      fill: #FFFFFF;\n",
              "    }\n",
              "  </style>\n",
              "\n",
              "      <script>\n",
              "        const buttonEl =\n",
              "          document.querySelector('#df-04dd094e-5639-4cde-8073-0cfaa96f8fa4 button.colab-df-convert');\n",
              "        buttonEl.style.display =\n",
              "          google.colab.kernel.accessAllowed ? 'block' : 'none';\n",
              "\n",
              "        async function convertToInteractive(key) {\n",
              "          const element = document.querySelector('#df-04dd094e-5639-4cde-8073-0cfaa96f8fa4');\n",
              "          const dataTable =\n",
              "            await google.colab.kernel.invokeFunction('convertToInteractive',\n",
              "                                                     [key], {});\n",
              "          if (!dataTable) return;\n",
              "\n",
              "          const docLinkHtml = 'Like what you see? Visit the ' +\n",
              "            '<a target=\"_blank\" href=https://colab.research.google.com/notebooks/data_table.ipynb>data table notebook</a>'\n",
              "            + ' to learn more about interactive tables.';\n",
              "          element.innerHTML = '';\n",
              "          dataTable['output_type'] = 'display_data';\n",
              "          await google.colab.output.renderOutput(dataTable, element);\n",
              "          const docLink = document.createElement('div');\n",
              "          docLink.innerHTML = docLinkHtml;\n",
              "          element.appendChild(docLink);\n",
              "        }\n",
              "      </script>\n",
              "    </div>\n",
              "  </div>\n",
              "  "
            ]
          },
          "metadata": {},
          "execution_count": 7
        }
      ]
    },
    {
      "cell_type": "code",
      "source": [
        "data.info()\n",
        "#after encode sex the column becomes type int64 but smoke is still an object"
      ],
      "metadata": {
        "colab": {
          "base_uri": "https://localhost:8080/"
        },
        "id": "U3Xgv9rpi5tg",
        "outputId": "2583b4ae-8851-4be2-ccc3-818f3e204c8c"
      },
      "execution_count": null,
      "outputs": [
        {
          "output_type": "stream",
          "name": "stdout",
          "text": [
            "<class 'pandas.core.frame.DataFrame'>\n",
            "Int64Index: 1335 entries, 0 to 1337\n",
            "Data columns (total 6 columns):\n",
            " #   Column    Non-Null Count  Dtype  \n",
            "---  ------    --------------  -----  \n",
            " 0   age       1335 non-null   int64  \n",
            " 1   sex       1335 non-null   int64  \n",
            " 2   bmi       1335 non-null   float64\n",
            " 3   children  1335 non-null   int64  \n",
            " 4   smoker    1335 non-null   object \n",
            " 5   charges   1335 non-null   float64\n",
            "dtypes: float64(2), int64(3), object(1)\n",
            "memory usage: 73.0+ KB\n"
          ]
        }
      ]
    },
    {
      "cell_type": "markdown",
      "metadata": {
        "id": "AuX-fpHesgmi"
      },
      "source": [
        "And now the smokers column"
      ]
    },
    {
      "cell_type": "code",
      "metadata": {
        "id": "LfU8gCe7sCDS",
        "colab": {
          "base_uri": "https://localhost:8080/",
          "height": 270
        },
        "outputId": "bb557308-63ea-4e16-da5b-5b408bb153dd"
      },
      "source": [
        "# define dictionary\n",
        "smokers = {'no':0, 'yes':1}\n",
        "# replace smokers column with 0/1\n",
        "data['smoker'] = data['smoker'].apply(lambda x: smokers[x])\n",
        "# print head to verify\n",
        "data.head()"
      ],
      "execution_count": null,
      "outputs": [
        {
          "output_type": "execute_result",
          "data": {
            "text/plain": [
              "   age  sex     bmi  children  smoker      charges\n",
              "0   19    1  27.900         0       1  16884.92400\n",
              "1   18    0  33.770         1       0   1725.55230\n",
              "2   28    0  33.000         3       0   4449.46200\n",
              "3   33    0  22.705         0       0  21984.47061\n",
              "4   32    0  28.880         0       0   3866.85520"
            ],
            "text/html": [
              "\n",
              "  <div id=\"df-940c29ae-9c66-4b8c-8428-45d1c173ee73\">\n",
              "    <div class=\"colab-df-container\">\n",
              "      <div>\n",
              "<style scoped>\n",
              "    .dataframe tbody tr th:only-of-type {\n",
              "        vertical-align: middle;\n",
              "    }\n",
              "\n",
              "    .dataframe tbody tr th {\n",
              "        vertical-align: top;\n",
              "    }\n",
              "\n",
              "    .dataframe thead th {\n",
              "        text-align: right;\n",
              "    }\n",
              "</style>\n",
              "<table border=\"1\" class=\"dataframe\">\n",
              "  <thead>\n",
              "    <tr style=\"text-align: right;\">\n",
              "      <th></th>\n",
              "      <th>age</th>\n",
              "      <th>sex</th>\n",
              "      <th>bmi</th>\n",
              "      <th>children</th>\n",
              "      <th>smoker</th>\n",
              "      <th>charges</th>\n",
              "    </tr>\n",
              "  </thead>\n",
              "  <tbody>\n",
              "    <tr>\n",
              "      <th>0</th>\n",
              "      <td>19</td>\n",
              "      <td>1</td>\n",
              "      <td>27.900</td>\n",
              "      <td>0</td>\n",
              "      <td>1</td>\n",
              "      <td>16884.92400</td>\n",
              "    </tr>\n",
              "    <tr>\n",
              "      <th>1</th>\n",
              "      <td>18</td>\n",
              "      <td>0</td>\n",
              "      <td>33.770</td>\n",
              "      <td>1</td>\n",
              "      <td>0</td>\n",
              "      <td>1725.55230</td>\n",
              "    </tr>\n",
              "    <tr>\n",
              "      <th>2</th>\n",
              "      <td>28</td>\n",
              "      <td>0</td>\n",
              "      <td>33.000</td>\n",
              "      <td>3</td>\n",
              "      <td>0</td>\n",
              "      <td>4449.46200</td>\n",
              "    </tr>\n",
              "    <tr>\n",
              "      <th>3</th>\n",
              "      <td>33</td>\n",
              "      <td>0</td>\n",
              "      <td>22.705</td>\n",
              "      <td>0</td>\n",
              "      <td>0</td>\n",
              "      <td>21984.47061</td>\n",
              "    </tr>\n",
              "    <tr>\n",
              "      <th>4</th>\n",
              "      <td>32</td>\n",
              "      <td>0</td>\n",
              "      <td>28.880</td>\n",
              "      <td>0</td>\n",
              "      <td>0</td>\n",
              "      <td>3866.85520</td>\n",
              "    </tr>\n",
              "  </tbody>\n",
              "</table>\n",
              "</div>\n",
              "      <button class=\"colab-df-convert\" onclick=\"convertToInteractive('df-940c29ae-9c66-4b8c-8428-45d1c173ee73')\"\n",
              "              title=\"Convert this dataframe to an interactive table.\"\n",
              "              style=\"display:none;\">\n",
              "        \n",
              "  <svg xmlns=\"http://www.w3.org/2000/svg\" height=\"24px\"viewBox=\"0 0 24 24\"\n",
              "       width=\"24px\">\n",
              "    <path d=\"M0 0h24v24H0V0z\" fill=\"none\"/>\n",
              "    <path d=\"M18.56 5.44l.94 2.06.94-2.06 2.06-.94-2.06-.94-.94-2.06-.94 2.06-2.06.94zm-11 1L8.5 8.5l.94-2.06 2.06-.94-2.06-.94L8.5 2.5l-.94 2.06-2.06.94zm10 10l.94 2.06.94-2.06 2.06-.94-2.06-.94-.94-2.06-.94 2.06-2.06.94z\"/><path d=\"M17.41 7.96l-1.37-1.37c-.4-.4-.92-.59-1.43-.59-.52 0-1.04.2-1.43.59L10.3 9.45l-7.72 7.72c-.78.78-.78 2.05 0 2.83L4 21.41c.39.39.9.59 1.41.59.51 0 1.02-.2 1.41-.59l7.78-7.78 2.81-2.81c.8-.78.8-2.07 0-2.86zM5.41 20L4 18.59l7.72-7.72 1.47 1.35L5.41 20z\"/>\n",
              "  </svg>\n",
              "      </button>\n",
              "      \n",
              "  <style>\n",
              "    .colab-df-container {\n",
              "      display:flex;\n",
              "      flex-wrap:wrap;\n",
              "      gap: 12px;\n",
              "    }\n",
              "\n",
              "    .colab-df-convert {\n",
              "      background-color: #E8F0FE;\n",
              "      border: none;\n",
              "      border-radius: 50%;\n",
              "      cursor: pointer;\n",
              "      display: none;\n",
              "      fill: #1967D2;\n",
              "      height: 32px;\n",
              "      padding: 0 0 0 0;\n",
              "      width: 32px;\n",
              "    }\n",
              "\n",
              "    .colab-df-convert:hover {\n",
              "      background-color: #E2EBFA;\n",
              "      box-shadow: 0px 1px 2px rgba(60, 64, 67, 0.3), 0px 1px 3px 1px rgba(60, 64, 67, 0.15);\n",
              "      fill: #174EA6;\n",
              "    }\n",
              "\n",
              "    [theme=dark] .colab-df-convert {\n",
              "      background-color: #3B4455;\n",
              "      fill: #D2E3FC;\n",
              "    }\n",
              "\n",
              "    [theme=dark] .colab-df-convert:hover {\n",
              "      background-color: #434B5C;\n",
              "      box-shadow: 0px 1px 3px 1px rgba(0, 0, 0, 0.15);\n",
              "      filter: drop-shadow(0px 1px 2px rgba(0, 0, 0, 0.3));\n",
              "      fill: #FFFFFF;\n",
              "    }\n",
              "  </style>\n",
              "\n",
              "      <script>\n",
              "        const buttonEl =\n",
              "          document.querySelector('#df-940c29ae-9c66-4b8c-8428-45d1c173ee73 button.colab-df-convert');\n",
              "        buttonEl.style.display =\n",
              "          google.colab.kernel.accessAllowed ? 'block' : 'none';\n",
              "\n",
              "        async function convertToInteractive(key) {\n",
              "          const element = document.querySelector('#df-940c29ae-9c66-4b8c-8428-45d1c173ee73');\n",
              "          const dataTable =\n",
              "            await google.colab.kernel.invokeFunction('convertToInteractive',\n",
              "                                                     [key], {});\n",
              "          if (!dataTable) return;\n",
              "\n",
              "          const docLinkHtml = 'Like what you see? Visit the ' +\n",
              "            '<a target=\"_blank\" href=https://colab.research.google.com/notebooks/data_table.ipynb>data table notebook</a>'\n",
              "            + ' to learn more about interactive tables.';\n",
              "          element.innerHTML = '';\n",
              "          dataTable['output_type'] = 'display_data';\n",
              "          await google.colab.output.renderOutput(dataTable, element);\n",
              "          const docLink = document.createElement('div');\n",
              "          docLink.innerHTML = docLinkHtml;\n",
              "          element.appendChild(docLink);\n",
              "        }\n",
              "      </script>\n",
              "    </div>\n",
              "  </div>\n",
              "  "
            ]
          },
          "metadata": {},
          "execution_count": 8
        }
      ]
    },
    {
      "cell_type": "code",
      "source": [
        "data.info()\n",
        "#now smoke type is also int64"
      ],
      "metadata": {
        "colab": {
          "base_uri": "https://localhost:8080/"
        },
        "id": "H_2kN40zjS8z",
        "outputId": "7a35cc93-dd05-435a-af46-b3e109d825f2"
      },
      "execution_count": null,
      "outputs": [
        {
          "output_type": "stream",
          "name": "stdout",
          "text": [
            "<class 'pandas.core.frame.DataFrame'>\n",
            "Int64Index: 1335 entries, 0 to 1337\n",
            "Data columns (total 6 columns):\n",
            " #   Column    Non-Null Count  Dtype  \n",
            "---  ------    --------------  -----  \n",
            " 0   age       1335 non-null   int64  \n",
            " 1   sex       1335 non-null   int64  \n",
            " 2   bmi       1335 non-null   float64\n",
            " 3   children  1335 non-null   int64  \n",
            " 4   smoker    1335 non-null   int64  \n",
            " 5   charges   1335 non-null   float64\n",
            "dtypes: float64(2), int64(4)\n",
            "memory usage: 73.0 KB\n"
          ]
        }
      ]
    },
    {
      "cell_type": "markdown",
      "metadata": {
        "id": "uwfqKXYftiS-"
      },
      "source": [
        "#### Normalization\n",
        "\n",
        "Let's scale all the columns by dividing by the maximum"
      ]
    },
    {
      "cell_type": "code",
      "metadata": {
        "id": "hJrBAhytsq8c",
        "colab": {
          "base_uri": "https://localhost:8080/"
        },
        "outputId": "b3dabedb-4722-45dd-ba46-6e764cc64ec8"
      },
      "source": [
        "# get the max of each column\n",
        "data_max = data.max()\n",
        "data_max"
      ],
      "execution_count": null,
      "outputs": [
        {
          "output_type": "execute_result",
          "data": {
            "text/plain": [
              "age            64.00000\n",
              "sex             1.00000\n",
              "bmi            53.13000\n",
              "children        5.00000\n",
              "smoker          1.00000\n",
              "charges     63770.42801\n",
              "dtype: float64"
            ]
          },
          "metadata": {},
          "execution_count": 9
        }
      ]
    },
    {
      "cell_type": "code",
      "metadata": {
        "id": "oOxtgIjhu36f",
        "colab": {
          "base_uri": "https://localhost:8080/",
          "height": 364
        },
        "outputId": "9d18aaea-9609-4468-f658-fcd67f274c85"
      },
      "source": [
        "# divide each column by its maximum value\n",
        "data = data.divide(data_max)\n",
        "data.describe()"
      ],
      "execution_count": null,
      "outputs": [
        {
          "output_type": "execute_result",
          "data": {
            "text/plain": [
              "               age          sex          bmi     children       smoker  \\\n",
              "count  1335.000000  1335.000000  1335.000000  1335.000000  1335.000000   \n",
              "mean      0.612441     0.495131     0.577102     0.219476     0.205243   \n",
              "std       0.219491     0.500164     0.114832     0.241145     0.404031   \n",
              "min       0.281250     0.000000     0.300395     0.000000     0.000000   \n",
              "25%       0.421875     0.000000     0.495059     0.000000     0.000000   \n",
              "50%       0.609375     0.000000     0.572181     0.200000     0.000000   \n",
              "75%       0.796875     1.000000     0.652880     0.400000     0.000000   \n",
              "max       1.000000     1.000000     1.000000     1.000000     1.000000   \n",
              "\n",
              "           charges  \n",
              "count  1335.000000  \n",
              "mean      0.208299  \n",
              "std       0.190041  \n",
              "min       0.017592  \n",
              "25%       0.074365  \n",
              "50%       0.147187  \n",
              "75%       0.262144  \n",
              "max       1.000000  "
            ],
            "text/html": [
              "\n",
              "  <div id=\"df-7bfb78e4-1d6a-4a40-a63a-def9123ac934\">\n",
              "    <div class=\"colab-df-container\">\n",
              "      <div>\n",
              "<style scoped>\n",
              "    .dataframe tbody tr th:only-of-type {\n",
              "        vertical-align: middle;\n",
              "    }\n",
              "\n",
              "    .dataframe tbody tr th {\n",
              "        vertical-align: top;\n",
              "    }\n",
              "\n",
              "    .dataframe thead th {\n",
              "        text-align: right;\n",
              "    }\n",
              "</style>\n",
              "<table border=\"1\" class=\"dataframe\">\n",
              "  <thead>\n",
              "    <tr style=\"text-align: right;\">\n",
              "      <th></th>\n",
              "      <th>age</th>\n",
              "      <th>sex</th>\n",
              "      <th>bmi</th>\n",
              "      <th>children</th>\n",
              "      <th>smoker</th>\n",
              "      <th>charges</th>\n",
              "    </tr>\n",
              "  </thead>\n",
              "  <tbody>\n",
              "    <tr>\n",
              "      <th>count</th>\n",
              "      <td>1335.000000</td>\n",
              "      <td>1335.000000</td>\n",
              "      <td>1335.000000</td>\n",
              "      <td>1335.000000</td>\n",
              "      <td>1335.000000</td>\n",
              "      <td>1335.000000</td>\n",
              "    </tr>\n",
              "    <tr>\n",
              "      <th>mean</th>\n",
              "      <td>0.612441</td>\n",
              "      <td>0.495131</td>\n",
              "      <td>0.577102</td>\n",
              "      <td>0.219476</td>\n",
              "      <td>0.205243</td>\n",
              "      <td>0.208299</td>\n",
              "    </tr>\n",
              "    <tr>\n",
              "      <th>std</th>\n",
              "      <td>0.219491</td>\n",
              "      <td>0.500164</td>\n",
              "      <td>0.114832</td>\n",
              "      <td>0.241145</td>\n",
              "      <td>0.404031</td>\n",
              "      <td>0.190041</td>\n",
              "    </tr>\n",
              "    <tr>\n",
              "      <th>min</th>\n",
              "      <td>0.281250</td>\n",
              "      <td>0.000000</td>\n",
              "      <td>0.300395</td>\n",
              "      <td>0.000000</td>\n",
              "      <td>0.000000</td>\n",
              "      <td>0.017592</td>\n",
              "    </tr>\n",
              "    <tr>\n",
              "      <th>25%</th>\n",
              "      <td>0.421875</td>\n",
              "      <td>0.000000</td>\n",
              "      <td>0.495059</td>\n",
              "      <td>0.000000</td>\n",
              "      <td>0.000000</td>\n",
              "      <td>0.074365</td>\n",
              "    </tr>\n",
              "    <tr>\n",
              "      <th>50%</th>\n",
              "      <td>0.609375</td>\n",
              "      <td>0.000000</td>\n",
              "      <td>0.572181</td>\n",
              "      <td>0.200000</td>\n",
              "      <td>0.000000</td>\n",
              "      <td>0.147187</td>\n",
              "    </tr>\n",
              "    <tr>\n",
              "      <th>75%</th>\n",
              "      <td>0.796875</td>\n",
              "      <td>1.000000</td>\n",
              "      <td>0.652880</td>\n",
              "      <td>0.400000</td>\n",
              "      <td>0.000000</td>\n",
              "      <td>0.262144</td>\n",
              "    </tr>\n",
              "    <tr>\n",
              "      <th>max</th>\n",
              "      <td>1.000000</td>\n",
              "      <td>1.000000</td>\n",
              "      <td>1.000000</td>\n",
              "      <td>1.000000</td>\n",
              "      <td>1.000000</td>\n",
              "      <td>1.000000</td>\n",
              "    </tr>\n",
              "  </tbody>\n",
              "</table>\n",
              "</div>\n",
              "      <button class=\"colab-df-convert\" onclick=\"convertToInteractive('df-7bfb78e4-1d6a-4a40-a63a-def9123ac934')\"\n",
              "              title=\"Convert this dataframe to an interactive table.\"\n",
              "              style=\"display:none;\">\n",
              "        \n",
              "  <svg xmlns=\"http://www.w3.org/2000/svg\" height=\"24px\"viewBox=\"0 0 24 24\"\n",
              "       width=\"24px\">\n",
              "    <path d=\"M0 0h24v24H0V0z\" fill=\"none\"/>\n",
              "    <path d=\"M18.56 5.44l.94 2.06.94-2.06 2.06-.94-2.06-.94-.94-2.06-.94 2.06-2.06.94zm-11 1L8.5 8.5l.94-2.06 2.06-.94-2.06-.94L8.5 2.5l-.94 2.06-2.06.94zm10 10l.94 2.06.94-2.06 2.06-.94-2.06-.94-.94-2.06-.94 2.06-2.06.94z\"/><path d=\"M17.41 7.96l-1.37-1.37c-.4-.4-.92-.59-1.43-.59-.52 0-1.04.2-1.43.59L10.3 9.45l-7.72 7.72c-.78.78-.78 2.05 0 2.83L4 21.41c.39.39.9.59 1.41.59.51 0 1.02-.2 1.41-.59l7.78-7.78 2.81-2.81c.8-.78.8-2.07 0-2.86zM5.41 20L4 18.59l7.72-7.72 1.47 1.35L5.41 20z\"/>\n",
              "  </svg>\n",
              "      </button>\n",
              "      \n",
              "  <style>\n",
              "    .colab-df-container {\n",
              "      display:flex;\n",
              "      flex-wrap:wrap;\n",
              "      gap: 12px;\n",
              "    }\n",
              "\n",
              "    .colab-df-convert {\n",
              "      background-color: #E8F0FE;\n",
              "      border: none;\n",
              "      border-radius: 50%;\n",
              "      cursor: pointer;\n",
              "      display: none;\n",
              "      fill: #1967D2;\n",
              "      height: 32px;\n",
              "      padding: 0 0 0 0;\n",
              "      width: 32px;\n",
              "    }\n",
              "\n",
              "    .colab-df-convert:hover {\n",
              "      background-color: #E2EBFA;\n",
              "      box-shadow: 0px 1px 2px rgba(60, 64, 67, 0.3), 0px 1px 3px 1px rgba(60, 64, 67, 0.15);\n",
              "      fill: #174EA6;\n",
              "    }\n",
              "\n",
              "    [theme=dark] .colab-df-convert {\n",
              "      background-color: #3B4455;\n",
              "      fill: #D2E3FC;\n",
              "    }\n",
              "\n",
              "    [theme=dark] .colab-df-convert:hover {\n",
              "      background-color: #434B5C;\n",
              "      box-shadow: 0px 1px 3px 1px rgba(0, 0, 0, 0.15);\n",
              "      filter: drop-shadow(0px 1px 2px rgba(0, 0, 0, 0.3));\n",
              "      fill: #FFFFFF;\n",
              "    }\n",
              "  </style>\n",
              "\n",
              "      <script>\n",
              "        const buttonEl =\n",
              "          document.querySelector('#df-7bfb78e4-1d6a-4a40-a63a-def9123ac934 button.colab-df-convert');\n",
              "        buttonEl.style.display =\n",
              "          google.colab.kernel.accessAllowed ? 'block' : 'none';\n",
              "\n",
              "        async function convertToInteractive(key) {\n",
              "          const element = document.querySelector('#df-7bfb78e4-1d6a-4a40-a63a-def9123ac934');\n",
              "          const dataTable =\n",
              "            await google.colab.kernel.invokeFunction('convertToInteractive',\n",
              "                                                     [key], {});\n",
              "          if (!dataTable) return;\n",
              "\n",
              "          const docLinkHtml = 'Like what you see? Visit the ' +\n",
              "            '<a target=\"_blank\" href=https://colab.research.google.com/notebooks/data_table.ipynb>data table notebook</a>'\n",
              "            + ' to learn more about interactive tables.';\n",
              "          element.innerHTML = '';\n",
              "          dataTable['output_type'] = 'display_data';\n",
              "          await google.colab.output.renderOutput(dataTable, element);\n",
              "          const docLink = document.createElement('div');\n",
              "          docLink.innerHTML = docLinkHtml;\n",
              "          element.appendChild(docLink);\n",
              "        }\n",
              "      </script>\n",
              "    </div>\n",
              "  </div>\n",
              "  "
            ]
          },
          "metadata": {},
          "execution_count": 10
        }
      ]
    },
    {
      "cell_type": "markdown",
      "metadata": {
        "id": "nwQPUuGy8vmw"
      },
      "source": [
        "## 4. Model Training & Testing\n",
        "\n"
      ]
    },
    {
      "cell_type": "markdown",
      "metadata": {
        "id": "LTNYhHSpHezL"
      },
      "source": [
        "#### Data splits\n",
        "\n",
        "Before training, we need to split data into training (80%) & testing (20%)"
      ]
    },
    {
      "cell_type": "code",
      "metadata": {
        "id": "5n3DqBUG892K",
        "colab": {
          "base_uri": "https://localhost:8080/"
        },
        "outputId": "fd6a19d9-0a85-4f81-f77c-9b5b02d6407b"
      },
      "source": [
        "# store all columns except last one as inputs in X\n",
        "X = data.iloc[:,0:-1].values\n",
        "# store the last column as the output (label) in y\n",
        "y = data.iloc[:,-1].values\n",
        "\n",
        "# split dataset in a 80/20 split\n",
        "x_train, x_test, y_train, y_test = train_test_split(X, y, test_size=0.2, random_state=42)\n",
        "\n",
        "print(x_train.shape, y_train.shape)\n",
        "print(x_test.shape, y_test.shape)"
      ],
      "execution_count": null,
      "outputs": [
        {
          "output_type": "stream",
          "name": "stdout",
          "text": [
            "(1068, 5) (1068,)\n",
            "(267, 5) (267,)\n"
          ]
        }
      ]
    },
    {
      "cell_type": "markdown",
      "metadata": {
        "id": "7dPqqZiT97Eg"
      },
      "source": [
        "#### Linear Regression Modeling\n"
      ]
    },
    {
      "cell_type": "code",
      "metadata": {
        "id": "CYUD8wNF9bm3",
        "colab": {
          "base_uri": "https://localhost:8080/"
        },
        "outputId": "9dbbd263-0fb3-4ba2-bca0-8b81e5632394"
      },
      "source": [
        "# define our regression model\n",
        "model = LinearRegression()\n",
        "\n",
        "# train our model\n",
        "model.fit(x_train, y_train)\n",
        "print('Model trained!')"
      ],
      "execution_count": null,
      "outputs": [
        {
          "output_type": "stream",
          "name": "stdout",
          "text": [
            "Model trained!\n"
          ]
        }
      ]
    },
    {
      "cell_type": "markdown",
      "metadata": {
        "id": "8KIBXHUKHijy"
      },
      "source": [
        "#### Evaluation"
      ]
    },
    {
      "cell_type": "code",
      "metadata": {
        "id": "jEhqbtbCHmg8",
        "colab": {
          "base_uri": "https://localhost:8080/"
        },
        "outputId": "0dc1e8e5-61a1-4da3-cc89-98b28c87188e"
      },
      "source": [
        "print('Model score {}'.format(model.score(x_test,y_test)))"
      ],
      "execution_count": null,
      "outputs": [
        {
          "output_type": "stream",
          "name": "stdout",
          "text": [
            "Model score 0.8043792068989463\n"
          ]
        }
      ]
    },
    {
      "cell_type": "markdown",
      "metadata": {
        "id": "qcygPpRXGb0v"
      },
      "source": [
        "#### Prediction\n",
        "\n",
        "Let's have some fun with some predictions"
      ]
    },
    {
      "cell_type": "code",
      "metadata": {
        "colab": {
          "base_uri": "https://localhost:8080/"
        },
        "id": "PS8kPV7mDurF",
        "outputId": "7a2c3f58-c78e-48e2-8601-4fd20388ce34"
      },
      "source": [
        "#we need to multiply each variable value by its max because the data was normalized to 1.\n",
        "print(f\"The charges for someone who is {x_train[0][0]*data_max[0]} years old, {x_train[0][1]*data_max[1]} m(0)/f(1), with a bmi of {x_train[0][2]*data_max[2]} and, {x_train[0][3]*data_max[3]} children, {x_train[0][4]*data_max[4]} sm(1)/n_sm(0), is around {model.predict([x_train[0]])*data_max[-1]}\")"
      ],
      "execution_count": null,
      "outputs": [
        {
          "output_type": "stream",
          "name": "stdout",
          "text": [
            "The charges for someone who is 47.0 years old, 1.0 m(0)/f(1), with a bmi of 24.32 and, 0.0 children, 0.0 sm(1)/n_sm(0), is around [8171.17184965]\n"
          ]
        }
      ]
    },
    {
      "cell_type": "code",
      "source": [
        "print(x_train[0])\n",
        "print(data_max[-1])\n",
        "# we need a [] for x_train[0] for model.predict\n",
        "print(model.predict([x_train[0]]))\n",
        "print(x_train[0].reshape(1,-1))\n",
        "#this is correct\n",
        "print(model.predict([x_train[0]])*data_max[-1])\n",
        "#this is wrong needs to be corrected in the next cell.\n",
        "#but I will keep it for future references\n",
        "print(model.predict(x_train[0].reshape(1,-1)*data_max[-1]))"
      ],
      "metadata": {
        "colab": {
          "base_uri": "https://localhost:8080/"
        },
        "id": "GSXrJdB2FTZO",
        "outputId": "5dbe719b-b7dc-4993-bb45-dc560b7352d3"
      },
      "execution_count": null,
      "outputs": [
        {
          "output_type": "stream",
          "name": "stdout",
          "text": [
            "[0.734375   1.         0.45774515 0.         0.        ]\n",
            "63770.42801\n",
            "[0.12813419]\n",
            "[[0.734375   1.         0.45774515 0.         0.        ]]\n",
            "[8171.17184965]\n",
            "[19478.20674516]\n"
          ]
        }
      ]
    },
    {
      "cell_type": "code",
      "metadata": {
        "colab": {
          "base_uri": "https://localhost:8080/",
          "height": 639
        },
        "id": "yE9ubAf-LWHV",
        "outputId": "ce524e51-4d76-4000-e00a-f8e11a95c96f"
      },
      "source": [
        "bmi_list = []\n",
        "charges_pred = []\n",
        "\n",
        "for i in range(x_train.shape[0]):\n",
        "    bmi_list.append(x_train[i][2]*data_max[2])\n",
        "    charges_pred.append(model.predict(x_train[i].reshape(1,-1)*data_max[-1]))\n",
        "\n",
        "plt.figure(figsize=(20,10))\n",
        "plt.scatter(bmi_list, charges_pred)\n",
        "plt.xlabel('BMI')\n",
        "plt.ylabel('Charges')\n",
        "plt.title('BMI vs Charges (predictions)')"
      ],
      "execution_count": null,
      "outputs": [
        {
          "output_type": "execute_result",
          "data": {
            "text/plain": [
              "Text(0.5, 1.0, 'BMI vs Charges (predictions)')"
            ]
          },
          "metadata": {
            "tags": []
          },
          "execution_count": 28
        },
        {
          "output_type": "display_data",
          "data": {
            "image/png": "[encoded data removed]",
            "text/plain": [
              "<Figure size 1440x720 with 1 Axes>"
            ]
          },
          "metadata": {
            "tags": [],
            "needs_background": "light"
          }
        }
      ]
    },
    {
      "cell_type": "code",
      "metadata": {
        "colab": {
          "base_uri": "https://localhost:8080/",
          "height": 639
        },
        "id": "uDVQA3WlMLtE",
        "outputId": "a42a7c7b-26e5-4f4c-fb7f-ff4ba2a19ad7"
      },
      "source": [
        "age_list = []\n",
        "charges_pred = []\n",
        "\n",
        "for i in range(x_train.shape[0]):\n",
        "    age_list.append(x_train[i][0]*data_max[0])\n",
        "    charges_pred.append(model.predict(x_train[i].reshape(1,-1)*data_max[-1]))\n",
        "\n",
        "plt.figure(figsize=(20,10))\n",
        "plt.scatter(age_list, charges_pred)\n",
        "plt.xlabel('Age')\n",
        "plt.ylabel('Charges')\n",
        "plt.title('Age vs Charges (predictions)')"
      ],
      "execution_count": null,
      "outputs": [
        {
          "output_type": "execute_result",
          "data": {
            "text/plain": [
              "Text(0.5, 1.0, 'Age vs Charges (predictions)')"
            ]
          },
          "metadata": {
            "tags": []
          },
          "execution_count": 29
        },
        {
          "output_type": "display_data",
          "data": {
            "image/png": "[encoded data removed]",
            "text/plain": [
              "<Figure size 1440x720 with 1 Axes>"
            ]
          },
          "metadata": {
            "tags": [],
            "needs_background": "light"
          }
        }
      ]
    },
    {
      "cell_type": "markdown",
      "metadata": {
        "id": "aheCkvxXFb2B"
      },
      "source": [
        "#### BONUS: Features importance (weights)\n"
      ]
    },
    {
      "cell_type": "code",
      "metadata": {
        "id": "YIIDhnf-_AfG",
        "colab": {
          "base_uri": "https://localhost:8080/",
          "height": 295
        },
        "outputId": "c98645ed-c3ba-4c32-d976-d2be2db66989"
      },
      "source": [
        "columns_names = data.columns[0:-1].values\n",
        "features_importance = model.coef_\n",
        "\n",
        "plt.barh(columns_names, features_importance)\n",
        "plt.title('Features Importance')\n",
        "plt.xlabel('importance')\n",
        "plt.ylabel('feature')\n",
        "plt.show()"
      ],
      "execution_count": null,
      "outputs": [
        {
          "output_type": "display_data",
          "data": {
            "image/png": "[encoded data removed]",
            "text/plain": [
              "<Figure size 432x288 with 1 Axes>"
            ]
          },
          "metadata": {
            "tags": [],
            "needs_background": "light"
          }
        }
      ]
    },
    {
      "cell_type": "code",
      "metadata": {
        "id": "1KMyylha2Y-g"
      },
      "source": [],
      "execution_count": null,
      "outputs": []
    }
  ]
}