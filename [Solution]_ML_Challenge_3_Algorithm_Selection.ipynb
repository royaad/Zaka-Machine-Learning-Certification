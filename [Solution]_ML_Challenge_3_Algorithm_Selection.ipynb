{
  "cells": [
    {
      "cell_type": "markdown",
      "metadata": {
        "id": "ztaryt-SWGAt"
      },
      "source": [
        "# PART A: Selecting the right ML Model\n",
        "© 2023 Zaka AI, Inc. All Rights Reserved.\n",
        "\n",
        "---"
      ]
    },
    {
      "cell_type": "markdown",
      "metadata": {
        "id": "qVOvtxEKWGAv"
      },
      "source": [
        "Please report your choices for part A in the code cells below.\n",
        "\n",
        "**NOTE:**\n",
        "* For the algo_type, you answer by 'supervised' or 'unsupervised'.\n",
        "* For the task_type, you answer by 'regression', 'classification', 'clustering', or 'association analysis'\n",
        "* For the suggested algorithms you pick one or more from the following list AS THEY APPEAR. ['linear regression', 'multilinear regression', 'decision tree Classifier', 'svm', 'logistic regression', 'knn', 'random forest classifier', 'naive bayes', 'k-means clustering', 'apriori']\n",
        "\n",
        "Even if you select one algorithm, make sure to write it inside a list (as written below)\n",
        "\n",
        "Sample answer:\n",
        "\n",
        "algo_type_x = 'supervised' </br>\n",
        "task_type_x = 'classification' </br>\n",
        "algos_x = ['naive bayes']"
      ]
    },
    {
      "cell_type": "code",
      "execution_count": null,
      "metadata": {
        "tags": [],
        "id": "9GY6uJGlWGAw"
      },
      "outputs": [],
      "source": [
        "# For the Telecom Users dataset:\n",
        "algo_type_1 = 'supervised'\n",
        "task_type_1 = 'regression'\n",
        "algos_1 = ['multilinear regression']"
      ]
    },
    {
      "cell_type": "code",
      "execution_count": null,
      "metadata": {
        "tags": [],
        "id": "qa8Y-YpdWGAx"
      },
      "outputs": [],
      "source": [
        "#For the Mobile Prices dataset:\n",
        "algo_type_2 = 'supervised'\n",
        "task_type_2 = 'classification'\n",
        "algos_2 = ['svm', 'random forest classifier', 'naive bayes', 'knn', 'decision tree classifier']"
      ]
    },
    {
      "cell_type": "code",
      "execution_count": null,
      "metadata": {
        "tags": [],
        "id": "4LiTvfD-WGAy"
      },
      "outputs": [],
      "source": [
        "#For the Iris dataset:\n",
        "algo_type_3 = 'supervised'\n",
        "task_type_3 = 'classification'\n",
        "algos_3 = ['naive bayes', 'svm', 'random forest classifier', 'knn', 'decision tree classifier']"
      ]
    },
    {
      "cell_type": "code",
      "execution_count": null,
      "metadata": {
        "tags": [],
        "id": "LYJehdzOWGAz"
      },
      "outputs": [],
      "source": [
        "#For the student performance dataset:\n",
        "#I believe this is a trick question, check xls file.\n",
        "algo_type_4 = 'unsupervised'\n",
        "task_type_4 = 'clustering'\n",
        "algos_4 = ['k-means clustering']"
      ]
    },
    {
      "cell_type": "code",
      "execution_count": null,
      "metadata": {
        "tags": [],
        "id": "ng9yxG6DWGAz"
      },
      "outputs": [],
      "source": [
        "#For the stroke dataset, the algorithm type is:\n",
        "algo_type_5 = 'supervised'\n",
        "task_type_5 = 'classification'\n",
        "algos_5 = ['logistic regression', 'naive bayes', 'random forest classifier', 'decision tree classifier', 'svm', 'knn']"
      ]
    },
    {
      "cell_type": "markdown",
      "metadata": {
        "id": "bP9uQN0Q0-Wf"
      },
      "source": [
        "\n",
        "# PART B: Gaussian Naive Bayes Classifier\n",
        "\n",
        "© 2023 Zaka AI, Inc. All Rights Reserved.\n",
        "\n",
        "---\n",
        "\n",
        "\n",
        "\n",
        "## **Case Study:** Iris Dataset\n",
        "\n",
        "**Objective:** The objective of this challenge is to make you know about Naive Bayes applied on Numerical Values.\n",
        "\n",
        "**DataSet Columns:**<br>\n",
        "*\t Petal Height\n",
        "*  Petal Width\n",
        "*  Sepal Height\n",
        "*  Sepal Width\n",
        "*  Target: The kind of the Iris flower (Virginica, Setosa, Versicolor)"
      ]
    },
    {
      "cell_type": "markdown",
      "metadata": {
        "id": "oHi57nVC1Yn2"
      },
      "source": [
        "# Importing Libraries"
      ]
    },
    {
      "cell_type": "code",
      "execution_count": null,
      "metadata": {
        "id": "i3lTMdVK07ES"
      },
      "outputs": [],
      "source": [
        "import numpy as np\n",
        "import pandas as pd\n",
        "import math"
      ]
    },
    {
      "cell_type": "code",
      "execution_count": null,
      "metadata": {
        "id": "fTqGWjt-WGA5"
      },
      "outputs": [],
      "source": [
        "import warnings\n",
        "warnings.filterwarnings('ignore')"
      ]
    },
    {
      "cell_type": "markdown",
      "metadata": {
        "id": "ntP2fLal1cGQ"
      },
      "source": [
        "# Loading the Dataset"
      ]
    },
    {
      "cell_type": "markdown",
      "metadata": {
        "id": "NCjMBnhfWGA6"
      },
      "source": [
        "Load the dataset, and make sure your columns are named as follow: 'Sepal Height', 'Sepal Width', 'Petal Height', 'Petal Width', and 'Target'"
      ]
    },
    {
      "cell_type": "code",
      "source": [
        "# clone git repo\n",
        "!git clone https://github.com/royaad/AIC\n",
        "# change working directory\n",
        "%cd AIC/Week_03/data"
      ],
      "metadata": {
        "colab": {
          "base_uri": "https://localhost:8080/"
        },
        "id": "5mnvmzSjTzw3",
        "outputId": "812c5446-5083-4de0-dfe7-0db8b06de5f8"
      },
      "execution_count": null,
      "outputs": [
        {
          "output_type": "stream",
          "name": "stdout",
          "text": [
            "Cloning into 'AIC'...\n",
            "remote: Enumerating objects: 25, done.\u001b[K\n",
            "remote: Counting objects: 100% (25/25), done.\u001b[K\n",
            "remote: Compressing objects: 100% (16/16), done.\u001b[K\n",
            "remote: Total 25 (delta 1), reused 0 (delta 0), pack-reused 0\u001b[K\n",
            "Unpacking objects: 100% (25/25), 12.73 KiB | 2.12 MiB/s, done.\n",
            "/content/AIC/Week_03/data\n"
          ]
        }
      ]
    },
    {
      "cell_type": "code",
      "execution_count": null,
      "metadata": {
        "id": "BzNYyltN1X9R",
        "tags": [],
        "colab": {
          "base_uri": "https://localhost:8080/",
          "height": 206
        },
        "outputId": "6eea9039-0fa0-4a3a-ed58-0dc218b7018b"
      },
      "outputs": [
        {
          "output_type": "execute_result",
          "data": {
            "text/plain": [
              "   Sepal Height  Sepal Width  Petal Height  Petal Width  Target\n",
              "0           5.1          3.5           1.4          0.2  Setosa\n",
              "1           4.9          3.0           1.4          0.2  Setosa\n",
              "2           4.7          3.2           1.3          0.2  Setosa\n",
              "3           4.6          3.1           1.5          0.2  Setosa\n",
              "4           5.0          3.6           1.4          0.2  Setosa"
            ],
            "text/html": [
              "\n",
              "  <div id=\"df-401e986f-721e-4379-aa8c-20392c7bd66e\">\n",
              "    <div class=\"colab-df-container\">\n",
              "      <div>\n",
              "<style scoped>\n",
              "    .dataframe tbody tr th:only-of-type {\n",
              "        vertical-align: middle;\n",
              "    }\n",
              "\n",
              "    .dataframe tbody tr th {\n",
              "        vertical-align: top;\n",
              "    }\n",
              "\n",
              "    .dataframe thead th {\n",
              "        text-align: right;\n",
              "    }\n",
              "</style>\n",
              "<table border=\"1\" class=\"dataframe\">\n",
              "  <thead>\n",
              "    <tr style=\"text-align: right;\">\n",
              "      <th></th>\n",
              "      <th>Sepal Height</th>\n",
              "      <th>Sepal Width</th>\n",
              "      <th>Petal Height</th>\n",
              "      <th>Petal Width</th>\n",
              "      <th>Target</th>\n",
              "    </tr>\n",
              "  </thead>\n",
              "  <tbody>\n",
              "    <tr>\n",
              "      <th>0</th>\n",
              "      <td>5.1</td>\n",
              "      <td>3.5</td>\n",
              "      <td>1.4</td>\n",
              "      <td>0.2</td>\n",
              "      <td>Setosa</td>\n",
              "    </tr>\n",
              "    <tr>\n",
              "      <th>1</th>\n",
              "      <td>4.9</td>\n",
              "      <td>3.0</td>\n",
              "      <td>1.4</td>\n",
              "      <td>0.2</td>\n",
              "      <td>Setosa</td>\n",
              "    </tr>\n",
              "    <tr>\n",
              "      <th>2</th>\n",
              "      <td>4.7</td>\n",
              "      <td>3.2</td>\n",
              "      <td>1.3</td>\n",
              "      <td>0.2</td>\n",
              "      <td>Setosa</td>\n",
              "    </tr>\n",
              "    <tr>\n",
              "      <th>3</th>\n",
              "      <td>4.6</td>\n",
              "      <td>3.1</td>\n",
              "      <td>1.5</td>\n",
              "      <td>0.2</td>\n",
              "      <td>Setosa</td>\n",
              "    </tr>\n",
              "    <tr>\n",
              "      <th>4</th>\n",
              "      <td>5.0</td>\n",
              "      <td>3.6</td>\n",
              "      <td>1.4</td>\n",
              "      <td>0.2</td>\n",
              "      <td>Setosa</td>\n",
              "    </tr>\n",
              "  </tbody>\n",
              "</table>\n",
              "</div>\n",
              "      <button class=\"colab-df-convert\" onclick=\"convertToInteractive('df-401e986f-721e-4379-aa8c-20392c7bd66e')\"\n",
              "              title=\"Convert this dataframe to an interactive table.\"\n",
              "              style=\"display:none;\">\n",
              "        \n",
              "  <svg xmlns=\"http://www.w3.org/2000/svg\" height=\"24px\"viewBox=\"0 0 24 24\"\n",
              "       width=\"24px\">\n",
              "    <path d=\"M0 0h24v24H0V0z\" fill=\"none\"/>\n",
              "    <path d=\"M18.56 5.44l.94 2.06.94-2.06 2.06-.94-2.06-.94-.94-2.06-.94 2.06-2.06.94zm-11 1L8.5 8.5l.94-2.06 2.06-.94-2.06-.94L8.5 2.5l-.94 2.06-2.06.94zm10 10l.94 2.06.94-2.06 2.06-.94-2.06-.94-.94-2.06-.94 2.06-2.06.94z\"/><path d=\"M17.41 7.96l-1.37-1.37c-.4-.4-.92-.59-1.43-.59-.52 0-1.04.2-1.43.59L10.3 9.45l-7.72 7.72c-.78.78-.78 2.05 0 2.83L4 21.41c.39.39.9.59 1.41.59.51 0 1.02-.2 1.41-.59l7.78-7.78 2.81-2.81c.8-.78.8-2.07 0-2.86zM5.41 20L4 18.59l7.72-7.72 1.47 1.35L5.41 20z\"/>\n",
              "  </svg>\n",
              "      </button>\n",
              "      \n",
              "  <style>\n",
              "    .colab-df-container {\n",
              "      display:flex;\n",
              "      flex-wrap:wrap;\n",
              "      gap: 12px;\n",
              "    }\n",
              "\n",
              "    .colab-df-convert {\n",
              "      background-color: #E8F0FE;\n",
              "      border: none;\n",
              "      border-radius: 50%;\n",
              "      cursor: pointer;\n",
              "      display: none;\n",
              "      fill: #1967D2;\n",
              "      height: 32px;\n",
              "      padding: 0 0 0 0;\n",
              "      width: 32px;\n",
              "    }\n",
              "\n",
              "    .colab-df-convert:hover {\n",
              "      background-color: #E2EBFA;\n",
              "      box-shadow: 0px 1px 2px rgba(60, 64, 67, 0.3), 0px 1px 3px 1px rgba(60, 64, 67, 0.15);\n",
              "      fill: #174EA6;\n",
              "    }\n",
              "\n",
              "    [theme=dark] .colab-df-convert {\n",
              "      background-color: #3B4455;\n",
              "      fill: #D2E3FC;\n",
              "    }\n",
              "\n",
              "    [theme=dark] .colab-df-convert:hover {\n",
              "      background-color: #434B5C;\n",
              "      box-shadow: 0px 1px 3px 1px rgba(0, 0, 0, 0.15);\n",
              "      filter: drop-shadow(0px 1px 2px rgba(0, 0, 0, 0.3));\n",
              "      fill: #FFFFFF;\n",
              "    }\n",
              "  </style>\n",
              "\n",
              "      <script>\n",
              "        const buttonEl =\n",
              "          document.querySelector('#df-401e986f-721e-4379-aa8c-20392c7bd66e button.colab-df-convert');\n",
              "        buttonEl.style.display =\n",
              "          google.colab.kernel.accessAllowed ? 'block' : 'none';\n",
              "\n",
              "        async function convertToInteractive(key) {\n",
              "          const element = document.querySelector('#df-401e986f-721e-4379-aa8c-20392c7bd66e');\n",
              "          const dataTable =\n",
              "            await google.colab.kernel.invokeFunction('convertToInteractive',\n",
              "                                                     [key], {});\n",
              "          if (!dataTable) return;\n",
              "\n",
              "          const docLinkHtml = 'Like what you see? Visit the ' +\n",
              "            '<a target=\"_blank\" href=https://colab.research.google.com/notebooks/data_table.ipynb>data table notebook</a>'\n",
              "            + ' to learn more about interactive tables.';\n",
              "          element.innerHTML = '';\n",
              "          dataTable['output_type'] = 'display_data';\n",
              "          await google.colab.output.renderOutput(dataTable, element);\n",
              "          const docLink = document.createElement('div');\n",
              "          docLink.innerHTML = docLinkHtml;\n",
              "          element.appendChild(docLink);\n",
              "        }\n",
              "      </script>\n",
              "    </div>\n",
              "  </div>\n",
              "  "
            ]
          },
          "metadata": {},
          "execution_count": 4
        }
      ],
      "source": [
        "filename = 'iris.csv'\n",
        "df = pd.read_csv(filename)\n",
        "#replacing dots with spaces in columns\n",
        "df.columns = df.columns.str.replace('.',' ')\n",
        "#replacing variety with Target & length with Height by chaining\n",
        "df.columns = df.columns.str.replace('variety','Target').str.replace('length','Height')\n",
        "#capitalizing first letters\n",
        "df.columns = df.columns.str.title()\n",
        "#showing first 5 rows\n",
        "df.head()"
      ]
    },
    {
      "cell_type": "markdown",
      "metadata": {
        "id": "KE5Znmrh5nW4"
      },
      "source": [
        "## Data Preprocessing"
      ]
    },
    {
      "cell_type": "markdown",
      "metadata": {
        "id": "d6cKCe7P7DYi"
      },
      "source": [
        "We will Change the string values of the Target column to numerical."
      ]
    },
    {
      "cell_type": "code",
      "execution_count": null,
      "metadata": {
        "id": "H8eT9I255p7J",
        "tags": [],
        "colab": {
          "base_uri": "https://localhost:8080/",
          "height": 380
        },
        "outputId": "85126f94-73ed-4dfc-e2a7-bf2087539bae"
      },
      "outputs": [
        {
          "output_type": "stream",
          "name": "stdout",
          "text": [
            "{'Setosa': 0, 'Versicolor': 1, 'Virginica': 2}\n"
          ]
        },
        {
          "output_type": "execute_result",
          "data": {
            "text/plain": [
              "   Sepal Height  Sepal Width  Petal Height  Petal Width  Target\n",
              "0           5.1          3.5           1.4          0.2       0\n",
              "1           4.9          3.0           1.4          0.2       0\n",
              "2           4.7          3.2           1.3          0.2       0\n",
              "3           4.6          3.1           1.5          0.2       0\n",
              "4           5.0          3.6           1.4          0.2       0\n",
              "5           5.4          3.9           1.7          0.4       0\n",
              "6           4.6          3.4           1.4          0.3       0\n",
              "7           5.0          3.4           1.5          0.2       0\n",
              "8           4.4          2.9           1.4          0.2       0\n",
              "9           4.9          3.1           1.5          0.1       0"
            ],
            "text/html": [
              "\n",
              "  <div id=\"df-2237d7f7-cc39-41ad-a8d5-6a7ebd3350cd\">\n",
              "    <div class=\"colab-df-container\">\n",
              "      <div>\n",
              "<style scoped>\n",
              "    .dataframe tbody tr th:only-of-type {\n",
              "        vertical-align: middle;\n",
              "    }\n",
              "\n",
              "    .dataframe tbody tr th {\n",
              "        vertical-align: top;\n",
              "    }\n",
              "\n",
              "    .dataframe thead th {\n",
              "        text-align: right;\n",
              "    }\n",
              "</style>\n",
              "<table border=\"1\" class=\"dataframe\">\n",
              "  <thead>\n",
              "    <tr style=\"text-align: right;\">\n",
              "      <th></th>\n",
              "      <th>Sepal Height</th>\n",
              "      <th>Sepal Width</th>\n",
              "      <th>Petal Height</th>\n",
              "      <th>Petal Width</th>\n",
              "      <th>Target</th>\n",
              "    </tr>\n",
              "  </thead>\n",
              "  <tbody>\n",
              "    <tr>\n",
              "      <th>0</th>\n",
              "      <td>5.1</td>\n",
              "      <td>3.5</td>\n",
              "      <td>1.4</td>\n",
              "      <td>0.2</td>\n",
              "      <td>0</td>\n",
              "    </tr>\n",
              "    <tr>\n",
              "      <th>1</th>\n",
              "      <td>4.9</td>\n",
              "      <td>3.0</td>\n",
              "      <td>1.4</td>\n",
              "      <td>0.2</td>\n",
              "      <td>0</td>\n",
              "    </tr>\n",
              "    <tr>\n",
              "      <th>2</th>\n",
              "      <td>4.7</td>\n",
              "      <td>3.2</td>\n",
              "      <td>1.3</td>\n",
              "      <td>0.2</td>\n",
              "      <td>0</td>\n",
              "    </tr>\n",
              "    <tr>\n",
              "      <th>3</th>\n",
              "      <td>4.6</td>\n",
              "      <td>3.1</td>\n",
              "      <td>1.5</td>\n",
              "      <td>0.2</td>\n",
              "      <td>0</td>\n",
              "    </tr>\n",
              "    <tr>\n",
              "      <th>4</th>\n",
              "      <td>5.0</td>\n",
              "      <td>3.6</td>\n",
              "      <td>1.4</td>\n",
              "      <td>0.2</td>\n",
              "      <td>0</td>\n",
              "    </tr>\n",
              "    <tr>\n",
              "      <th>5</th>\n",
              "      <td>5.4</td>\n",
              "      <td>3.9</td>\n",
              "      <td>1.7</td>\n",
              "      <td>0.4</td>\n",
              "      <td>0</td>\n",
              "    </tr>\n",
              "    <tr>\n",
              "      <th>6</th>\n",
              "      <td>4.6</td>\n",
              "      <td>3.4</td>\n",
              "      <td>1.4</td>\n",
              "      <td>0.3</td>\n",
              "      <td>0</td>\n",
              "    </tr>\n",
              "    <tr>\n",
              "      <th>7</th>\n",
              "      <td>5.0</td>\n",
              "      <td>3.4</td>\n",
              "      <td>1.5</td>\n",
              "      <td>0.2</td>\n",
              "      <td>0</td>\n",
              "    </tr>\n",
              "    <tr>\n",
              "      <th>8</th>\n",
              "      <td>4.4</td>\n",
              "      <td>2.9</td>\n",
              "      <td>1.4</td>\n",
              "      <td>0.2</td>\n",
              "      <td>0</td>\n",
              "    </tr>\n",
              "    <tr>\n",
              "      <th>9</th>\n",
              "      <td>4.9</td>\n",
              "      <td>3.1</td>\n",
              "      <td>1.5</td>\n",
              "      <td>0.1</td>\n",
              "      <td>0</td>\n",
              "    </tr>\n",
              "  </tbody>\n",
              "</table>\n",
              "</div>\n",
              "      <button class=\"colab-df-convert\" onclick=\"convertToInteractive('df-2237d7f7-cc39-41ad-a8d5-6a7ebd3350cd')\"\n",
              "              title=\"Convert this dataframe to an interactive table.\"\n",
              "              style=\"display:none;\">\n",
              "        \n",
              "  <svg xmlns=\"http://www.w3.org/2000/svg\" height=\"24px\"viewBox=\"0 0 24 24\"\n",
              "       width=\"24px\">\n",
              "    <path d=\"M0 0h24v24H0V0z\" fill=\"none\"/>\n",
              "    <path d=\"M18.56 5.44l.94 2.06.94-2.06 2.06-.94-2.06-.94-.94-2.06-.94 2.06-2.06.94zm-11 1L8.5 8.5l.94-2.06 2.06-.94-2.06-.94L8.5 2.5l-.94 2.06-2.06.94zm10 10l.94 2.06.94-2.06 2.06-.94-2.06-.94-.94-2.06-.94 2.06-2.06.94z\"/><path d=\"M17.41 7.96l-1.37-1.37c-.4-.4-.92-.59-1.43-.59-.52 0-1.04.2-1.43.59L10.3 9.45l-7.72 7.72c-.78.78-.78 2.05 0 2.83L4 21.41c.39.39.9.59 1.41.59.51 0 1.02-.2 1.41-.59l7.78-7.78 2.81-2.81c.8-.78.8-2.07 0-2.86zM5.41 20L4 18.59l7.72-7.72 1.47 1.35L5.41 20z\"/>\n",
              "  </svg>\n",
              "      </button>\n",
              "      \n",
              "  <style>\n",
              "    .colab-df-container {\n",
              "      display:flex;\n",
              "      flex-wrap:wrap;\n",
              "      gap: 12px;\n",
              "    }\n",
              "\n",
              "    .colab-df-convert {\n",
              "      background-color: #E8F0FE;\n",
              "      border: none;\n",
              "      border-radius: 50%;\n",
              "      cursor: pointer;\n",
              "      display: none;\n",
              "      fill: #1967D2;\n",
              "      height: 32px;\n",
              "      padding: 0 0 0 0;\n",
              "      width: 32px;\n",
              "    }\n",
              "\n",
              "    .colab-df-convert:hover {\n",
              "      background-color: #E2EBFA;\n",
              "      box-shadow: 0px 1px 2px rgba(60, 64, 67, 0.3), 0px 1px 3px 1px rgba(60, 64, 67, 0.15);\n",
              "      fill: #174EA6;\n",
              "    }\n",
              "\n",
              "    [theme=dark] .colab-df-convert {\n",
              "      background-color: #3B4455;\n",
              "      fill: #D2E3FC;\n",
              "    }\n",
              "\n",
              "    [theme=dark] .colab-df-convert:hover {\n",
              "      background-color: #434B5C;\n",
              "      box-shadow: 0px 1px 3px 1px rgba(0, 0, 0, 0.15);\n",
              "      filter: drop-shadow(0px 1px 2px rgba(0, 0, 0, 0.3));\n",
              "      fill: #FFFFFF;\n",
              "    }\n",
              "  </style>\n",
              "\n",
              "      <script>\n",
              "        const buttonEl =\n",
              "          document.querySelector('#df-2237d7f7-cc39-41ad-a8d5-6a7ebd3350cd button.colab-df-convert');\n",
              "        buttonEl.style.display =\n",
              "          google.colab.kernel.accessAllowed ? 'block' : 'none';\n",
              "\n",
              "        async function convertToInteractive(key) {\n",
              "          const element = document.querySelector('#df-2237d7f7-cc39-41ad-a8d5-6a7ebd3350cd');\n",
              "          const dataTable =\n",
              "            await google.colab.kernel.invokeFunction('convertToInteractive',\n",
              "                                                     [key], {});\n",
              "          if (!dataTable) return;\n",
              "\n",
              "          const docLinkHtml = 'Like what you see? Visit the ' +\n",
              "            '<a target=\"_blank\" href=https://colab.research.google.com/notebooks/data_table.ipynb>data table notebook</a>'\n",
              "            + ' to learn more about interactive tables.';\n",
              "          element.innerHTML = '';\n",
              "          dataTable['output_type'] = 'display_data';\n",
              "          await google.colab.output.renderOutput(dataTable, element);\n",
              "          const docLink = document.createElement('div');\n",
              "          docLink.innerHTML = docLinkHtml;\n",
              "          element.appendChild(docLink);\n",
              "        }\n",
              "      </script>\n",
              "    </div>\n",
              "  </div>\n",
              "  "
            ]
          },
          "metadata": {},
          "execution_count": 5
        }
      ],
      "source": [
        "col = 'Target'\n",
        "target_dict = {ele:count for count, ele in enumerate(df[col].unique())}\n",
        "df[col] = df[col].apply(lambda x: target_dict[x])\n",
        "print(target_dict)\n",
        "df.head(10)"
      ]
    },
    {
      "cell_type": "markdown",
      "metadata": {
        "id": "kqU9gnuF7exi"
      },
      "source": [
        "Make sure we have no null values"
      ]
    },
    {
      "cell_type": "code",
      "execution_count": null,
      "metadata": {
        "id": "qU1E0ppR7aK0",
        "tags": [],
        "colab": {
          "base_uri": "https://localhost:8080/"
        },
        "outputId": "3038f0ae-6c6b-4daa-dd93-7b7b0fe53d3a"
      },
      "outputs": [
        {
          "output_type": "stream",
          "name": "stdout",
          "text": [
            "Missing values per column:\n",
            "\n",
            "Sepal Height    0\n",
            "Sepal Width     0\n",
            "Petal Height    0\n",
            "Petal Width     0\n",
            "Target          0\n",
            "dtype: int64\n"
          ]
        }
      ],
      "source": [
        "#Test Your Zaka\n",
        "print (\"Missing values per column:\\n\")\n",
        "print (df.isnull().sum(axis = 0))"
      ]
    },
    {
      "cell_type": "markdown",
      "metadata": {
        "id": "gN8Yei2k5e2i"
      },
      "source": [
        "# Naive Bayes"
      ]
    },
    {
      "cell_type": "markdown",
      "metadata": {
        "id": "_o7UadL-7zVD"
      },
      "source": [
        "## Finding different Classes"
      ]
    },
    {
      "cell_type": "markdown",
      "metadata": {
        "id": "i0dKEoLZ8Amr"
      },
      "source": [
        "First, let's try to find how many classes we have in our dataset, although it should always appear in the description of your dataset."
      ]
    },
    {
      "cell_type": "code",
      "execution_count": null,
      "metadata": {
        "id": "AgExYYDy72CK",
        "tags": [],
        "colab": {
          "base_uri": "https://localhost:8080/"
        },
        "outputId": "e80e9392-6626-4166-deec-3180cc83056a"
      },
      "outputs": [
        {
          "output_type": "stream",
          "name": "stdout",
          "text": [
            "The # of classes is 3\n"
          ]
        }
      ],
      "source": [
        "targets = len(df[col].unique())\n",
        "print(f'The # of classes is {targets}')"
      ]
    },
    {
      "cell_type": "markdown",
      "metadata": {
        "id": "we8EBYvX8JrF"
      },
      "source": [
        "So, we have 3 classes of flowers."
      ]
    },
    {
      "cell_type": "markdown",
      "metadata": {
        "id": "myjWSPheAWa6"
      },
      "source": [
        "Remember the basic formula that we used for Naive Bayes. <br>\n",
        "<img src=\"https://equatio-api.texthelp.com/svg/%5C%20P(%5Ctextcolor%7B%232B7FBB%7D%7BClass%7D%7C%5Ctextcolor%7B%23E94D40%7D%7BFeatures%7D)%3D%5Cfrac%7BP(%5Ctextcolor%7B%23E94D40%7D%7BFeatures%7D%7C%5Ctextcolor%7B%232B7FBB%7D%7BClass%7D)%5Ccdot%20P%5Cleft(%5Ctextcolor%7B%232B7FBB%7D%7BClass%7D%5Cright)%7D%7BP(%5Ctextcolor%7B%23E94D40%7D%7BFeatures%7D)%7D\" alt=\"P of open paren C l a. s s divides F of e a. t u r e s close paren equals the fraction with numerator P of open paren F of e a. t u r e s divides C l a. s s close paren times P of open paren C l a. s s close paren and denominator P of F of e a. t u r e s\">"
      ]
    },
    {
      "cell_type": "markdown",
      "metadata": {
        "id": "D2UrbRnHAh_R"
      },
      "source": [
        "Since we have 3 classes, and 4 features, we need to calculate the following probabilities.<br>\n",
        "<img src=\"https://equatio-api.texthelp.com/svg/P(%5Ctextcolor%7B%232B7FBB%7D%7BClass_0%7D%7C%5Ctextcolor%7B%23E94D40%7D%7BF1%2CF2%2CF3%2CF4%7D)\" alt=\"P of open paren C l a. s s sub 0 divides F of 1 comma F of 2 comma F of 3 comma F of 4 close paren\"> <br>\n",
        "<img src=\"https://equatio-api.texthelp.com/svg/P(%5Ctextcolor%7B%232B7FBB%7D%7BClass_1%7D%7C%5Ctextcolor%7B%23E94D40%7D%7BF1%2CF2%2CF3%2CF4%7D)\" alt=\"P of open paren C l a. s s sub 1 divides F of 1 comma F of 2 comma F of 3 comma F of 4 close paren\"> <br>\n",
        "<img src=\"https://equatio-api.texthelp.com/svg/P(%5Ctextcolor%7B%232B7FBB%7D%7BClass_2%7D%7C%5Ctextcolor%7B%23E94D40%7D%7BF1%2CF2%2CF3%2CF4%7D)\" alt=\"P of open paren C l a. s s sub 2 divides F of 1 comma F of 2 comma F of 3 comma F of 4 close paren\">\n"
      ]
    },
    {
      "cell_type": "markdown",
      "metadata": {
        "id": "N1vv6PrLBdLg"
      },
      "source": [
        "So in reality we need to calculate the following:"
      ]
    },
    {
      "cell_type": "markdown",
      "metadata": {
        "id": "tfolDf1zBlGQ"
      },
      "source": [
        "<img src=\"https://equatio-api.texthelp.com/svg/P_0%3DP(%5Ctextcolor%7B%232B7FBB%7D%7B%5Ctextcolor%7B%23E94D40%7D%7BF_1%7D%7D%7C%5Ctextcolor%7B%23E94D40%7D%7B%5Ctextcolor%7B%232B7FBB%7D%7BClass_0%7D%7D)P(%5Ctextcolor%7B%232B7FBB%7D%7B%5Ctextcolor%7B%23E94D40%7D%7BF_2%7D%7D%7C%5Ctextcolor%7B%23E94D40%7D%7B%5Ctextcolor%7B%232B7FBB%7D%7BClass_0%7D%7D)P(%5Ctextcolor%7B%232B7FBB%7D%7B%5Ctextcolor%7B%23E94D40%7D%7BF_3%7D%7D%7C%5Ctextcolor%7B%23E94D40%7D%7B%5Ctextcolor%7B%232B7FBB%7D%7BClass_0%7D%7D)P(%5Ctextcolor%7B%232B7FBB%7D%7B%5Ctextcolor%7B%23E94D40%7D%7BF_4%7D%7D%7C%5Ctextcolor%7B%23E94D40%7D%7B%5Ctextcolor%7B%232B7FBB%7D%7BClass_0%7D%7D)\" alt=\"P sub 0 equals P of open paren F sub 1 divides C l a. s s sub 0 close paren P of open paren F sub 2 divides C l a. s s sub 0 close paren P of open paren F sub 3 divides C l a. s s sub 0 close paren P of open paren F sub 4 divides C l a. s s sub 0 close paren\"><img src=\"https://equatio-api.texthelp.com/svg/P%5Cleft(%5Ctextcolor%7B%232B7FBB%7D%7BClass_0%7D%5Cright)\" alt=\"P of open paren C l a. s s sub 0 close paren\"><br><img src=\"https://equatio-api.texthelp.com/svg/P_1%3DP(%5Ctextcolor%7B%232B7FBB%7D%7B%5Ctextcolor%7B%23E94D40%7D%7BF_1%7D%7D%7C%5Ctextcolor%7B%23E94D40%7D%7B%5Ctextcolor%7B%232B7FBB%7D%7BClass_1%7D%7D)P(%5Ctextcolor%7B%232B7FBB%7D%7B%5Ctextcolor%7B%23E94D40%7D%7BF_2%7D%7D%7C%5Ctextcolor%7B%23E94D40%7D%7B%5Ctextcolor%7B%232B7FBB%7D%7BClass_1%7D%7D)P(%5Ctextcolor%7B%232B7FBB%7D%7B%5Ctextcolor%7B%23E94D40%7D%7BF_3%7D%7D%7C%5Ctextcolor%7B%23E94D40%7D%7B%5Ctextcolor%7B%232B7FBB%7D%7BClass_1%7D%7D)P(%5Ctextcolor%7B%232B7FBB%7D%7B%5Ctextcolor%7B%23E94D40%7D%7BF_4%7D%7D%7C%5Ctextcolor%7B%23E94D40%7D%7B%5Ctextcolor%7B%232B7FBB%7D%7BClass_1%7D%7D)\" alt=\"P sub 1 equals P of open paren F sub 1 divides C l a. s s sub 1 close paren P of open paren F sub 2 divides C l a. s s sub 1 close paren P of open paren F sub 3 divides C l a. s s sub 1 close paren P of open paren F sub 4 divides C l a. s s sub 1 close paren\"><img src=\"https://equatio-api.texthelp.com/svg/P%5Cleft(%5Ctextcolor%7B%232B7FBB%7D%7BClass_1%7D%5Cright)\" alt=\"P of open paren C l a. s s sub 1 close paren\"><br>\n",
        "<img src=\"https://equatio-api.texthelp.com/svg/P_2%3DP(%5Ctextcolor%7B%232B7FBB%7D%7B%5Ctextcolor%7B%23E94D40%7D%7BF_1%7D%7D%7C%5Ctextcolor%7B%23E94D40%7D%7B%5Ctextcolor%7B%232B7FBB%7D%7BClass_2%7D%7D)P(%5Ctextcolor%7B%232B7FBB%7D%7B%5Ctextcolor%7B%23E94D40%7D%7BF_2%7D%7D%7C%5Ctextcolor%7B%23E94D40%7D%7B%5Ctextcolor%7B%232B7FBB%7D%7BClass_2%7D%7D)P(%5Ctextcolor%7B%232B7FBB%7D%7B%5Ctextcolor%7B%23E94D40%7D%7BF_3%7D%7D%7C%5Ctextcolor%7B%23E94D40%7D%7B%5Ctextcolor%7B%232B7FBB%7D%7BClass_2%7D%7D)P(%5Ctextcolor%7B%232B7FBB%7D%7B%5Ctextcolor%7B%23E94D40%7D%7BF_4%7D%7D%7C%5Ctextcolor%7B%23E94D40%7D%7B%5Ctextcolor%7B%232B7FBB%7D%7BClass_2%7D%7D)P%5Cleft(%5Ctextcolor%7B%232B7FBB%7D%7BClass_2%7D%5Cright)\" alt=\"P sub 2 equals P of open paren F sub 1 divides C l a. s s sub 2 close paren P of open paren F sub 2 divides C l a. s s sub 2 close paren P of open paren F sub 3 divides C l a. s s sub 2 close paren P of open paren F sub 4 divides C l a. s s sub 2 close paren P of open paren C l a. s s sub 2 close paren\">\n",
        "\n"
      ]
    },
    {
      "cell_type": "markdown",
      "metadata": {
        "id": "HWodfMQv05nc"
      },
      "source": [
        "We see which one is the greatest, and based on that we assign the class."
      ]
    },
    {
      "cell_type": "markdown",
      "metadata": {
        "id": "Q-YKGe4Q0mjD"
      },
      "source": [
        "Those probabilities will be approximated using a distribution.\n",
        "In this example, we will use the Gaussien Distribution."
      ]
    },
    {
      "cell_type": "markdown",
      "metadata": {
        "id": "fAcatx6x1A2L"
      },
      "source": [
        "## Gaussian Probability Density Function"
      ]
    },
    {
      "cell_type": "markdown",
      "metadata": {
        "id": "_oj_NOLW1J-E"
      },
      "source": [
        "We recall that the Gaussian Probability density function is given by:\n",
        "<br>\n",
        "<img src=\"https://equatio-api.texthelp.com/svg/f%5Cleft(x%5Cright)%3D%5Cfrac%7B1%7D%7B%5Csqrt%7B2%5Cpi%7D%5Ctextcolor%7B%238D44AD%7D%7B%5Csigma%7D%7D%5Cexp%5Cleft%5C%7B-%5Cfrac%7B%5Cleft(x-%5Ctextcolor%7B%233697DC%7D%7Bmean%7D%5Cright)%5E2%7D%7B2%5Ctextcolor%7B%238D44AD%7D%7B%5Csigma%7D%5E2%7D%5Cright%5C%7D\" alt=\"f of x equals 1 over the square root of 2 pi sigma the exp of open brace negative the fraction with numerator open paren x minus m e a. n close paren squared and denominator 2 sigma squared close brace\">"
      ]
    },
    {
      "cell_type": "code",
      "execution_count": null,
      "metadata": {
        "id": "lZnRXZJA01nM",
        "tags": []
      },
      "outputs": [],
      "source": [
        "def probability (x, mean=0, sigma=1):\n",
        "\n",
        "  A = (1/math.sqrt(2*math.pi*sigma))\n",
        "  prob = A*np.exp(-(x - mean)**2 / (2*sigma**2))\n",
        "\n",
        "  return prob"
      ]
    },
    {
      "cell_type": "markdown",
      "metadata": {
        "id": "PMpZQUyE1EnS"
      },
      "source": [
        "## Naive Bayes Implementation"
      ]
    },
    {
      "cell_type": "markdown",
      "metadata": {
        "id": "W2WCarqdWGBF"
      },
      "source": [
        "Let's implement Naive Bayes function and then test it with a prediction"
      ]
    },
    {
      "cell_type": "code",
      "execution_count": null,
      "metadata": {
        "id": "b-8D3Rxq_pbr",
        "tags": []
      },
      "outputs": [],
      "source": [
        "def naive_bayes (df, features, target_name):\n",
        "  # A function that receives a dataframe, a feature vector, and a target name, and retruns the most likely class for the target_name given the feature vector and the dataframe.\n",
        "  # df: the dataframe from which we derive the probabilities.\n",
        "  # features: a 1 dimensional numpy array that contains the features of 1 sample we want to test\n",
        "  # target_name: the column name inside the dataframe df that represents the target we want to predict.\n",
        "  # Refer to the code cell below to see how this function will be used and accordingly code it.\n",
        "\n",
        "\n",
        "  # target column.\n",
        "  classes = np.int_(df[:,-1])\n",
        "  # counting the total number of examples.\n",
        "  N_classes = len(classes)\n",
        "  # initiationg some lists.\n",
        "  p_classes = []\n",
        "  features_means = np.empty((len(np.unique(classes)),df.shape[1]-1))\n",
        "  features_means[:] = np.nan\n",
        "  features_stdev = features_means.copy()\n",
        "\n",
        "  for i in np.unique(classes):\n",
        "\n",
        "    # calculating the probability for each class.\n",
        "    p_class = len(classes[classes == i])/N_classes\n",
        "    p_classes.append(p_class)\n",
        "    # calculating the mean and std for each feature for each class.\n",
        "    temp = df[classes == i,:-1]\n",
        "    features_means[i,:] = temp.mean(axis=0)\n",
        "    features_stdev[i,:] = temp.std(axis=0)\n",
        "\n",
        "  # treating 1 set of features case\n",
        "  if len(features.shape) == 1:\n",
        "    # intitiating proba\n",
        "    p_target = p_classes\n",
        "    for i in np.unique(classes):\n",
        "      for k in range(len(features)):\n",
        "           p_target[i] *= probability(features[k],features_means[i,k],features_stdev[i,k])\n",
        "    result = np.argmax(p_target)\n",
        "  # treating multiple stes\n",
        "  # previous lines of code can be reduced by converting the 1D array into 2D array.\n",
        "  else:\n",
        "    # initiating the probabilty\n",
        "    p_target = np.tile(p_classes,(features.shape[0],1))\n",
        "    for k in range(features.shape[0]):\n",
        "      for l in np.unique(classes):\n",
        "        for m in range(features.shape[1]):\n",
        "           p_target[k,l] *= probability(features[k,m],features_means[l,m],features_stdev[l,m])\n",
        "    result = np.argmax(p_target,axis = 1)\n",
        "\n",
        "  return result"
      ]
    },
    {
      "cell_type": "code",
      "execution_count": null,
      "metadata": {
        "id": "z-Q66_iiH4FL",
        "tags": [],
        "colab": {
          "base_uri": "https://localhost:8080/"
        },
        "outputId": "53b8e810-4408-417f-cc54-403c71ec20ba"
      },
      "outputs": [
        {
          "output_type": "stream",
          "name": "stdout",
          "text": [
            "This Iris flower is in the class  0\n"
          ]
        }
      ],
      "source": [
        "features = np.array([4.9, 3.0, 1.4, 0.2])\n",
        "result = naive_bayes(df.values, features, 'Target')\n",
        "print(\"This Iris flower is in the class \",result)"
      ]
    },
    {
      "cell_type": "markdown",
      "metadata": {
        "id": "LSylYkiz15zU"
      },
      "source": [
        "See the performance of our NB model"
      ]
    },
    {
      "cell_type": "markdown",
      "metadata": {
        "id": "GCvhS9H04sku"
      },
      "source": [
        "Now here we will splot our data between 2 sets:\n",
        "\n",
        "*   One from which the Naive Bayes Model will take the probabilities. (The **train** set)\n",
        "*   one that it hasn't seen before to test on it (The **test** set)\n",
        "Split your dataset as 80/20 with a random_state of 0"
      ]
    },
    {
      "cell_type": "code",
      "execution_count": null,
      "metadata": {
        "id": "C5UUqMI24XTH",
        "tags": [],
        "colab": {
          "base_uri": "https://localhost:8080/"
        },
        "outputId": "e0817364-8259-4564-b6ff-fa31f9813c23"
      },
      "outputs": [
        {
          "output_type": "stream",
          "name": "stdout",
          "text": [
            "(120, 4) (120,)\n",
            "(30, 4) (30,)\n"
          ]
        }
      ],
      "source": [
        "x_train, x_test, y_train, y_test = train_test_split(X, y, test_size=0.2, random_state=0)from sklearn.model_selection import train_test_split\n",
        "\n",
        "#Test Your Zaka\n",
        "# store all columns except last one as inputs in X\n",
        "X = df.iloc[:,0:-1].values\n",
        "# store the last column as the output (label) in y\n",
        "y = df.iloc[:,-1].values\n",
        "\n",
        "# split dataset in a 80/20 split\n",
        "x_train, x_test, y_train, y_test = train_test_split(X, y, test_size=0.2, random_state=0)\n",
        "print(x_train.shape, y_train.shape)\n",
        "print(x_test.shape, y_test.shape)"
      ]
    },
    {
      "cell_type": "markdown",
      "metadata": {
        "id": "CxpY8p6jWGBI"
      },
      "source": [
        "Compute the accuracy of Naive Bayes on the test set."
      ]
    },
    {
      "cell_type": "code",
      "execution_count": null,
      "metadata": {
        "id": "0qEvL2Rv1r8Z",
        "tags": [],
        "colab": {
          "base_uri": "https://localhost:8080/"
        },
        "outputId": "fbb2aed1-08dc-4149-ab28-708b053867b9"
      },
      "outputs": [
        {
          "output_type": "stream",
          "name": "stdout",
          "text": [
            "predicted ys are \n",
            " [2 1 0 2 0 2 0 1 1 1 2 1 1 1 1 0 1 1 0 0 2 1 0 0 2 0 0 1 1 0]\n",
            "test ys are \n",
            " [2 1 0 2 0 2 0 1 1 1 2 1 1 1 1 0 1 1 0 0 2 1 0 0 2 0 0 1 1 0]\n",
            "Accuracy of our Naive Bayes is: 100.0 %\n"
          ]
        }
      ],
      "source": [
        "train_dataFrame = np.c_[x_train,y_train] #Concatenate your x_train and y_train into 1 dataframe because you will pass it to the naive_bayes function you coded.\n",
        "\n",
        "# predicting results for test set\n",
        "y_pred = naive_bayes(train_dataFrame, x_test, 'Target')\n",
        "\n",
        "print(f'predicted ys are \\n {np.array(y_pred)}')\n",
        "print(f'test ys are \\n {y_test}')\n",
        "y_wrong = np.count_nonzero(y_pred - y_test, axis = 0)\n",
        "accuracy = 100*(len(y_test) - y_wrong)/len(y_test)\n",
        "\n",
        "print(\"Accuracy of our Naive Bayes is:\", accuracy, \"%\")"
      ]
    },
    {
      "cell_type": "markdown",
      "metadata": {
        "deletable": false,
        "editable": false,
        "id": "XJFcb3nKWGBK"
      },
      "source": [
        "## Submission\n",
        "\n",
        "Make sure you have run all cells in your notebook in order before running the cell below, so that all images/graphs appear in the output. **Download your notebook as .ipynb file and put it in a zip folder along with the PART A explanation, then upload that folder to the platform**"
      ]
    }
  ],
  "metadata": {
    "colab": {
      "provenance": []
    },
    "kernelspec": {
      "display_name": "Python 3.10.5 64-bit",
      "language": "python",
      "name": "python3"
    },
    "language_info": {
      "codemirror_mode": {
        "name": "ipython",
        "version": 3
      },
      "file_extension": ".py",
      "mimetype": "text/x-python",
      "name": "python",
      "nbconvert_exporter": "python",
      "pygments_lexer": "ipython3",
      "version": "3.10.5 (tags/v3.10.5:f377153, Jun  6 2022, 16:14:13) [MSC v.1929 64 bit (AMD64)]"
    },
    "otter": {
      "OK_FORMAT": true,
      "tests": {
        "q0": {
          "name": "q0",
          "points": 50,
          "suites": [
            {
              "cases": [
                {
                  "code": ">>> 'multilinear regression' in algos_1 and (not bool(set(algos_1) & set(['decision tree Classifier', 'svm', 'logistic regression', 'knn', 'random forest classifier', 'naive bayes', 'k-means clustering', 'apriori', 'linear regression'])))\nTrue",
                  "hidden": false,
                  "locked": false
                },
                {
                  "code": ">>> bool(set(algos_2) & set(['decision tree Classifier', 'svm', 'logistic regression', 'knn', 'random forest classifier', 'naive bayes'])) and (not bool(set(algos_2) & set(['k-means clustering', 'apriori', 'linear regression','multilinear regression'])))\nTrue",
                  "hidden": false,
                  "locked": false
                },
                {
                  "code": ">>> bool(set(algos_3) & set(['decision tree Classifier', 'svm', 'logistic regression', 'knn', 'random forest classifier', 'naive bayes'])) and (not bool(set(algos_3) & set(['k-means clustering', 'apriori', 'linear regression','multilinear regression'])))\nTrue",
                  "hidden": false,
                  "locked": false
                },
                {
                  "code": ">>> 'k-means clustering' in algos_4 and (not bool(set(algos_4) & set(['decision tree Classifier', 'svm', 'logistic regression', 'knn', 'random forest classifier', 'naive bayes', 'multilinear regression', 'apriori', 'linear regression'])))\nTrue",
                  "hidden": false,
                  "locked": false
                },
                {
                  "code": ">>> bool(set(algos_5) & set(['decision tree Classifier', 'svm', 'logistic regression', 'knn', 'random forest classifier', 'naive bayes'])) and (not bool(set(algos_5) & set(['k-means clustering', 'apriori', 'linear regression','multilinear regression'])))\nTrue",
                  "hidden": false,
                  "locked": false
                },
                {
                  "code": ">>> algo_type_2 == 'supervised'\nTrue",
                  "hidden": false,
                  "locked": false
                },
                {
                  "code": ">>> algo_type_4 == 'unsupervised'\nTrue",
                  "hidden": false,
                  "locked": false
                },
                {
                  "code": ">>> task_type_4 == 'clustering'\nTrue",
                  "hidden": false,
                  "locked": false
                },
                {
                  "code": ">>> task_type_5 == 'classification' \nTrue",
                  "hidden": false,
                  "locked": false
                },
                {
                  "code": ">>> algo_type_5 == 'supervised'\nTrue",
                  "hidden": false,
                  "locked": false
                },
                {
                  "code": ">>> algo_type_3 == 'supervised'\nTrue",
                  "hidden": false,
                  "locked": false
                },
                {
                  "code": ">>> task_type_3 == 'classification' \nTrue",
                  "hidden": false,
                  "locked": false
                },
                {
                  "code": ">>> task_type_2 == 'classification' \nTrue",
                  "hidden": false,
                  "locked": false
                },
                {
                  "code": ">>> algo_type_1.lower() == 'supervised'\nTrue",
                  "hidden": false,
                  "locked": false
                },
                {
                  "code": ">>> task_type_1.lower() == 'regression' \nTrue",
                  "hidden": false,
                  "locked": false
                }
              ],
              "scored": true,
              "setup": "",
              "teardown": "",
              "type": "doctest"
            }
          ]
        },
        "q1": {
          "name": "q1",
          "points": 5,
          "suites": [
            {
              "cases": [
                {
                  "code": ">>> 'Sepal Height' in df.columns\nTrue",
                  "hidden": false,
                  "locked": false
                },
                {
                  "code": ">>> 'Sepal Width' in df.columns\nTrue",
                  "hidden": false,
                  "locked": false
                },
                {
                  "code": ">>> 'Petal Height' in df.columns\nTrue",
                  "hidden": false,
                  "locked": false
                },
                {
                  "code": ">>> 'Petal Width' in df.columns\nTrue",
                  "hidden": false,
                  "locked": false
                },
                {
                  "code": ">>> 'Target' in df.columns\nTrue",
                  "hidden": false,
                  "locked": false
                },
                {
                  "code": ">>> df.columns == ['Sepal Height', 'Sepal Width', 'Petal Height', 'Petal Width', 'Target']\narray([ True,  True,  True,  True,  True])",
                  "hidden": false,
                  "locked": false
                }
              ],
              "scored": true,
              "setup": "",
              "teardown": "",
              "type": "doctest"
            }
          ]
        },
        "q2": {
          "name": "q2",
          "points": 3,
          "suites": [
            {
              "cases": [
                {
                  "code": ">>> set(df['Target'].unique()) == set((0,1,2))\nTrue",
                  "hidden": false,
                  "locked": false
                }
              ],
              "scored": true,
              "setup": "",
              "teardown": "",
              "type": "doctest"
            }
          ]
        },
        "q3": {
          "name": "q3",
          "points": 2,
          "suites": [
            {
              "cases": [
                {
                  "code": ">>> df.isna().sum().sum() == 0\nTrue",
                  "hidden": false,
                  "locked": false
                }
              ],
              "scored": true,
              "setup": "",
              "teardown": "",
              "type": "doctest"
            }
          ]
        },
        "q4": {
          "name": "q4",
          "points": 5,
          "suites": [
            {
              "cases": [
                {
                  "code": ">>> len(targets) == 3\nTrue",
                  "hidden": false,
                  "locked": false
                }
              ],
              "scored": true,
              "setup": "",
              "teardown": "",
              "type": "doctest"
            }
          ]
        },
        "q5": {
          "name": "q5",
          "points": 5,
          "suites": [
            {
              "cases": [
                {
                  "code": ">>> probability(0.1, 0, 1) == 0.3969525474770118\nTrue",
                  "hidden": false,
                  "locked": false
                },
                {
                  "code": ">>> probability(0.1, 1, 1)  == 0.2660852498987548\nTrue",
                  "hidden": false,
                  "locked": false
                },
                {
                  "code": ">>> probability(3.2, 0, 1) == 0.0023840882014648404\nTrue",
                  "hidden": false,
                  "locked": false
                },
                {
                  "code": ">>> probability(-3.2, 0, 1)== 0.0023840882014648404\nTrue",
                  "hidden": false,
                  "locked": false
                },
                {
                  "code": ">>> probability(3.2, 0, 1) == probability(-3.2, 0, 1)\nTrue",
                  "hidden": false,
                  "locked": false
                }
              ],
              "scored": true,
              "setup": "",
              "teardown": "",
              "type": "doctest"
            }
          ]
        },
        "q6": {
          "name": "q6",
          "points": 15,
          "suites": [
            {
              "cases": [
                {
                  "code": ">>> result == 0\nTrue",
                  "hidden": false,
                  "locked": false
                },
                {
                  "code": ">>> features = np.array([3.2, 3.0,\t1.0,\t0.6])\n>>> result = naive_bayes(df, features, 'Target')\n>>> result == 0\nTrue",
                  "hidden": false,
                  "locked": false
                },
                {
                  "code": ">>> features = np.array([1.2, 1.0,\t1.0,\t0.6])\n>>> result = naive_bayes(df, features, 'Target')\n>>> result == 0\nTrue",
                  "hidden": false,
                  "locked": false
                },
                {
                  "code": ">>> features = np.array([10.5, 6.2,\t8.9,\t7.5])\n>>> result = naive_bayes(df, features, 'Target')\n>>> result == 2\nTrue",
                  "hidden": false,
                  "locked": false
                },
                {
                  "code": ">>> features = np.array([10, 6,\t8,\t8])\n>>> result = naive_bayes(df, features, 'Target')\n>>> result == 2\nTrue",
                  "hidden": false,
                  "locked": false
                },
                {
                  "code": ">>> features = np.array([10.5, 6.2,\t8.9,\t7.5])\n>>> result = naive_bayes(df, features, 'Target')\n>>> result == 2\nTrue",
                  "hidden": false,
                  "locked": false
                }
              ],
              "scored": true,
              "setup": "",
              "teardown": "",
              "type": "doctest"
            }
          ]
        },
        "q7": {
          "name": "q7",
          "points": 5,
          "suites": [
            {
              "cases": [
                {
                  "code": ">>> x_train.shape == (120, 4)\nTrue",
                  "hidden": false,
                  "locked": false
                },
                {
                  "code": ">>> x_test.shape == (30, 4)\nTrue",
                  "hidden": false,
                  "locked": false
                },
                {
                  "code": ">>> y_train.shape == (120,)\nTrue",
                  "hidden": false,
                  "locked": false
                },
                {
                  "code": ">>> y_test.shape == (30,)\nTrue",
                  "hidden": false,
                  "locked": false
                }
              ],
              "scored": true,
              "setup": "",
              "teardown": "",
              "type": "doctest"
            }
          ]
        },
        "q8": {
          "name": "q8",
          "points": 10,
          "suites": [
            {
              "cases": [
                {
                  "code": ">>> accuracy>0.6\nTrue",
                  "hidden": false,
                  "locked": false
                },
                {
                  "code": ">>> accuracy>0.7\nTrue",
                  "hidden": false,
                  "locked": false
                },
                {
                  "code": ">>> accuracy>0.8\nTrue",
                  "hidden": false,
                  "locked": false
                },
                {
                  "code": ">>> accuracy>0.9\nTrue",
                  "hidden": false,
                  "locked": false
                },
                {
                  "code": ">>> for i in range(len(x_test)):\n...   res = naive_bayes(train_dataFrame, x_test.iloc[i,:], 'Target')\n...   if res!=y_test.iloc[i]:\n...     errors = errors + 1\n>>> \n>>> (len(x_test) - errors)*100/len(x_test)>0.8\nTrue",
                  "hidden": false,
                  "locked": false
                },
                {
                  "code": ">>> for i in range(len(x_test)):\n...   res = naive_bayes(train_dataFrame, x_test.iloc[i,:], 'Target')\n...   if res!=y_test.iloc[i]:\n...     errors = errors + 1\n>>> \n>>> (len(x_test) - errors)*100/len(x_test)>0.9\nTrue",
                  "hidden": false,
                  "locked": false
                },
                {
                  "code": ">>> for i in range(len(x_test)):\n...   res = naive_bayes(train_dataFrame, x_test.iloc[i,:], 'Target')\n...   if res!=y_test.iloc[i]:\n...     errors = errors + 1\n>>> \n>>> (len(x_test) - errors)*100/len(x_test)>0.7\nTrue",
                  "hidden": false,
                  "locked": false
                },
                {
                  "code": ">>> for i in range(len(x_test)):\n...   res = naive_bayes(train_dataFrame, x_test.iloc[i,:], 'Target')\n...   if res!=y_test.iloc[i]:\n...     errors = errors + 1\n>>> \n>>> (len(x_test) - errors)*100/len(x_test)>0.6\nTrue",
                  "hidden": false,
                  "locked": false
                }
              ],
              "scored": true,
              "setup": "",
              "teardown": "",
              "type": "doctest"
            }
          ]
        }
      }
    },
    "vscode": {
      "interpreter": {
        "hash": "8c3d4d9970fc5c09c50d9318a9c7fbf4d0159e4b28833276f5678ee22bded273"
      }
    }
  },
  "nbformat": 4,
  "nbformat_minor": 0
}